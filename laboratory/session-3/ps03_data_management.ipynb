{
 "cells": [
  {
   "cell_type": "markdown",
   "metadata": {},
   "source": [
    "# Practice Session 03: Management of network data"
   ]
  },
  {
   "cell_type": "markdown",
   "metadata": {},
   "source": [
    "In this session we will study an application of complex networks analysis to medicine. We will start with the *diseasome*, a bi-partite network connecting all known genetic diseases with genes whose mutations are implicated in that disease [1].\n",
    "\n",
    "The initial dataset `disease-genes.csv` in the data/ directory contains the following columns:\n",
    "\n",
    "1. A disorder **ID**\n",
    "2. A disorder **Name**\n",
    "3. A comma-separated list of **Genes** involved in this disorder\n",
    "4. The **OMIM ID** (Online Mendelian Inheritance in Man) of this disorder\n",
    "5. A codification of the location of the genes in their **Chromosome**\n",
    "6. A disorder **Class** indicating the physiological system that is affected\n",
    "\n",
    "[1] Goh, K. I., Cusick, M. E., Valle, D., Childs, B., Vidal, M., & Barabási, A. L. (2007). [The human disease network](http://www.pnas.org/content/104/21/8685). Proceedings of the National Academy of Sciences, 104(21), 8685-8690."
   ]
  },
  {
   "cell_type": "markdown",
   "metadata": {},
   "source": [
    "Author: <font color=\"blue\">Your name here</font>\n",
    "\n",
    "E-mail: <font color=\"blue\">Your e-mail here</font>\n",
    "\n",
    "Date: <font color=\"blue\">The current date here</font>"
   ]
  },
  {
   "cell_type": "markdown",
   "metadata": {},
   "source": [
    "# 0. Code snippets you may need\n",
    "\n",
    "\n",
    "## 0.1. Splitting a string and iterating on its parts\n",
    "\n",
    "If you want to split a string into pieces, you can use the following. Suppose the variables `genes` contains a comma-separated list such as `CYP17A1, CYP17, P450C17`:\n",
    "\n",
    "```python\n",
    "gene_list = genes.split(\",\")\n",
    "for gene in gene_list:\n",
    "    gene = gene.strip()\n",
    "    ...\n",
    "```\n",
    "\n",
    "The `str.strip()` method removes white space and newlines from the beginning and end of the string, so it's equivalent to `str.lstrip().rstrip()`.\n",
    "\n",
    "You can also do this in one line of code, using the `map(f, v)` function, which results of applying function `f` to each element of the list `v`:\n",
    "\n",
    "```python\n",
    "gene_list = list(map(str.strip, disorder[\"Genes\"].split(',')))\n",
    "```\n",
    "\n",
    "## 0.2. Producing the intersection and union of lists\n",
    "\n",
    "There are many ways of intersecting two lists in Python, one of the simplest ones is to convert them to sets, and then computing the set intersection using the built-in `&` operator:\n",
    "\n",
    "```python\n",
    "def intersection(list1, list2):\n",
    "    return(list(set(list1) & set(list2)))\n",
    "```\n",
    "\n",
    "If you want to test if two lists have elements in common, you can check the length of its intersection (there are other ways). Remember the length of a list is obtained with `len()`:\n",
    "\n",
    "```python\n",
    "if len(intersection(list1,list2)) > 0:\n",
    "    ...\n",
    "```\n",
    "\n",
    "A list `c` that is the union of two lists `a,b` can be computed in Python with `c = list(set(a) | set(b))`.\n",
    "\n",
    "<font size=\"-1\" color=\"gray\">(Remove this cell when delivering.)</font>"
   ]
  },
  {
   "cell_type": "markdown",
   "metadata": {},
   "source": [
    "# 1. The diseasome bi-partite graph"
   ]
  },
  {
   "cell_type": "markdown",
   "metadata": {},
   "source": [
    "## 1.0. Tip: examine your input file\n",
    "\n",
    "Before you begin, we highly recommend you to:\n",
    "\n",
    "1. Copy the file ``disease-genes.csv`` to a local ``data/`` subdirectory in your practice folder \n",
    "2. Open this file in a Spreadsheet program and look at it. Use ',' as field separator.\n",
    "3. Check its contents against the description given above.\n",
    "\n",
    "<font size=\"-1\" color=\"gray\">(Remove this cell when delivering.)</font>"
   ]
  },
  {
   "cell_type": "markdown",
   "metadata": {},
   "source": [
    "## 1.1. Read the disease-genes file in a dataframe\n",
    "\n",
    "The following code, which you can leave as-is, reads the disease-genes file into a pandas dataframe.\n",
    "\n",
    "<font size=\"-1\" color=\"gray\">(Remove this cell when delivering.)</font>"
   ]
  },
  {
   "cell_type": "code",
   "execution_count": null,
   "metadata": {},
   "outputs": [],
   "source": [
    "# Feel free to add imports if you need them\n",
    "\n",
    "import io\n",
    "import csv\n",
    "import pandas as pd"
   ]
  },
  {
   "cell_type": "code",
   "execution_count": null,
   "metadata": {},
   "outputs": [],
   "source": [
    "# Leave this code as-is\n",
    "\n",
    "INPUT_FILENAME = \"disease-genes.csv\"\n",
    "OUTPUT_DISEASOME_FILENAME = \"diseasome.csv\""
   ]
  },
  {
   "cell_type": "code",
   "execution_count": null,
   "metadata": {},
   "outputs": [],
   "source": [
    "# Leave this code as-is\n",
    "\n",
    "disease_genes = pd.read_csv(INPUT_FILENAME, sep=\",\")\n",
    "disease_genes.set_index(\"ID\", inplace=True)\n",
    "# Ten first lines to check if the object has the right type of data in it.\n",
    "disease_genes.head(10)"
   ]
  },
  {
   "cell_type": "markdown",
   "metadata": {},
   "source": [
    "## 1.2. Create a diseasome dataframe\n",
    "\n",
    "Create a new dataframe named `diseasome`, containing three columns: `disorder`, `class`, and `gene_list`. These are extracted from `disease_genes` as follows:\n",
    "\n",
    "* `diseasome.disorder` is `disease_genes.Name`\n",
    "* `diseasome.class` is `disease_genes.Class`\n",
    "* `diseasome.gene_list` is `disease_genes.Genes`\n",
    "\n",
    "The columns should be in the specified order. Check this by doing `diseasome.head(3)`.\n",
    "\n",
    "<font size=\"-1\" color=\"gray\">(Remove this cell when delivering.)</font>"
   ]
  },
  {
   "cell_type": "markdown",
   "metadata": {},
   "source": [
    "<font size=\"+1\" color=\"red\">Replace this cell with your code to create the `diseasome` dataframe from the `disease_genes` dataframe</font>"
   ]
  },
  {
   "cell_type": "markdown",
   "metadata": {},
   "source": [
    "Now, create a tab-separated CSV file for Cytoscape. This file should have one row per disorder-gene pair, as follows:\n",
    "\n",
    "```\n",
    "    disorder          class          gene\n",
    "    Alpers syndrome   Neurological   POLG\n",
    "    Alpers syndrome   Neurological   POLG1\n",
    "    Hepatic adenoma   Cancer         TCF1\n",
    "    Hepatic adenoma   Cancer         HNF1A\n",
    "    Hepatic adenoma   Cancer         MODY3\n",
    "    ...\n",
    "```\n",
    "\n",
    "This can be done directly in Pandas by using [pandas.DataFrame.to_csv](https://pandas.pydata.org/docs/reference/api/pandas.DataFrame.to_csv.html).\n",
    "\n",
    "<font size=\"-1\" color=\"gray\">(Remove this cell when delivering.)</font>"
   ]
  },
  {
   "cell_type": "markdown",
   "metadata": {},
   "source": [
    "<font size=\"+1\" color=\"red\">Replace this cell with your code to create the `diseasome.csv` file</font>"
   ]
  },
  {
   "cell_type": "markdown",
   "metadata": {},
   "source": [
    "## 1.3. Examine the file you generated\n",
    "\n",
    "Open the ``diseasome.csv`` file in a spreadsheet program to make sure you generated it correctly.\n",
    "\n",
    "## 1.4. Import this file in Cytoscape\n",
    "\n",
    "Remember these files are imported with ``File > Import > Network from File ...`` and you must select \"tab\" as the separator in the advanced options (only tab, not tab and comma). Then, you have to select:\n",
    "\n",
    "* disorder as a ``Source Node``\n",
    "* gene as a ``Target Node`` \n",
    "* class as a ``Source Node Attribute``.\n",
    "\n",
    "## 1.5. Draw this graph\n",
    "\n",
    "Select **the largest connected component** of the graph. To do this, you can either:\n",
    "\n",
    "* maintain \"shift\" pressed while you draw a rectangle around it, or\n",
    "* select a node and use the two-house \"neighbor\" button repeatedly.\n",
    "\n",
    "Then, create a new graph with the largest selected component (``File > New > Network > From selected nodes, all edges``), and execute some graph layout for it, such as a force directed layout.\n",
    "\n",
    "Next, style the genes in white background (fill color white as the default fill color), and the remaining nodes according to the class of disease (Style/Node, Fill Color on Column \"class\", Discrete Mapping). Note that genes do not have a \"class\" and hence take the default color. Make genes hexagons and all the remaining nodes rectangles.\n",
    "\n",
    "<font size=\"-1\" color=\"gray\">(Remove this cell when delivering.)</font>"
   ]
  },
  {
   "cell_type": "markdown",
   "metadata": {},
   "source": [
    "<font size=\"+1\" color=\"red\">Save the image as diseasome.png and replace this cell with the code `![Diseasome graph](diseasome.png)` to display your graph.</font>"
   ]
  },
  {
   "cell_type": "markdown",
   "metadata": {},
   "source": [
    "<font size=\"+1\" color=\"red\">Replace this cell by a brief commentary, in your own words, of what you see in this graph. Include your answer to at least these three questions: (1) What size was the largest component in terms of percentage of nodes of the graph? (2) What is the dominant type of disease in the largest component? and (3) Why are diseases of the same type close to each other in this graph?</font>"
   ]
  },
  {
   "cell_type": "markdown",
   "metadata": {},
   "source": [
    "# 2. The disease-disease graph"
   ]
  },
  {
   "cell_type": "markdown",
   "metadata": {},
   "source": [
    "The bi-partite diseasome is hard to visualize as it mixes diseases and genes. We will now try to visualize only the connections between diseases.\n",
    "\n",
    "## 2.1. Create a disease-disease.csv file\n",
    "\n",
    "The following code lists all the diseases that have at least one gene in common:\n",
    "\n",
    "```python\n",
    "for idx1, disorder1 in diseasome.iterrows():\n",
    "    gene_list_1 = ...\n",
    "    for idx2, disorder2 in diseasome.iterrows():\n",
    "        if disorder2[\"disorder\"] != disorder1[\"disorder\"]:\n",
    "            gene_list_2 = ...\n",
    "            common_genes = intersection(gene_list_1, gene_list_2)\n",
    "            if len(common_genes) > 0:\n",
    "                print(\"Disorders '%s' and '%s' have %d gene(s) in common\" %\n",
    "                      (disorder1[\"disorder\"], disorder2[\"disorder\"], len(common_genes)))\n",
    "```\n",
    "\n",
    "Modify this code to generate a tab-separated file like this one:\n",
    "\n",
    "    disorder1   disease2   ngenes1 ngenes2  class1     class2\n",
    "    17-alpha... 17,20...    3      3        Endocrine  Endocrine\n",
    "    3-methyl... Optic ...   2      2        Metabolic  Ophthamological\n",
    "    Aarskog...  Mental...   3      3        multiple   Neurological\n",
    "    ...\n",
    "\n",
    "Where `ngenes1` and `ngenes2` correspond to `len(gene_list_1)` and `len(gene_list_2)` respectively.\n",
    "\n",
    "If you want to avoid having double edges, change the condition `disorder1[\"disorder\"] != disorder2[\"disorder\"]` from `!=` (different) to `>` (greater than).\n",
    "\n",
    "<font size=\"-1\" color=\"gray\">(Remove this cell when delivering.)</font>"
   ]
  },
  {
   "cell_type": "code",
   "execution_count": null,
   "metadata": {},
   "outputs": [],
   "source": [
    "OUTPUT_DISEASEDISEASE_FILENAME = \"disease-disease.csv\""
   ]
  },
  {
   "cell_type": "markdown",
   "metadata": {},
   "source": [
    "<font size=\"+1\" color=\"red\">Replace this cell with your code to create the disease-disease.csv file; your code can span multiple cells</font>"
   ]
  },
  {
   "cell_type": "markdown",
   "metadata": {},
   "source": [
    "## 2.2. Examine the file you generated\n",
    "\n",
    "Open the ``disease-disease.csv`` file in a spreadsheet program to make sure you generated it correctly.\n",
    "\n",
    "Check in particular that the number of genes is correct and the number of genes in common is correct.\n",
    "\n",
    "## 2.3. Import this file into Cytoscape\n",
    "\n",
    "To import this file remember to select the advanced options of the import, and select tab (and only tab) as the separator.\n",
    "\n",
    "Now, for the columns you have to indicate their role, and rename the attribute columns so that Cytoscape knows when they are the same attribute.\n",
    "\n",
    "1. `disease1`: Source Node\n",
    "2. `disease2`: Target Node\n",
    "3. `ngenes1`: Source Node Attribute - rename to \"num_genes\"\n",
    "4. `ngenes2`: Target Node Attribute - rename to \"num_genes\"\n",
    "5. `class1`: Source Node Attribute - rename to \"class\"\n",
    "6. `class2`: Target Node Attribute - rename to \"class\"\n",
    "7. `ngenescommon`: Edge Attribute\n",
    "\n",
    "**Warning:** If the network takes a long time to load or does not load in Cytoscape, it is very likely that you made a mistake during the generation of the graph. Double-check the output of your code to make sure that every pair of diseases you are including in the CSV file actually shares at least one gene.\n",
    "\n",
    "## 2.4. Style and add simple annotations\n",
    "\n",
    "Style lines connecting nodes so their thickness and color reflects the number of genes in common.\n",
    "\n",
    "Color the nodes by default white, and with colors representing the class of diseases (leave \"Unclassified\" and \"multiple\" as gray). Note that if you right-click on \"Mapping type\" when creating a discrete mapping, you can use an automatic mapping generator to start with.\n",
    "\n",
    "Add text annotations (secondary button > add > text annotation) to the first, second, and third largest connected component, with your observations (e.g., \"The second largest component is dominated by diseases of type x\"). Place the annotations next to the components they refer to (secondary button > edit > move annotation).\n",
    "\n",
    "<font size=\"-1\" color=\"gray\">(Remove this cell when delivering.)</font>"
   ]
  },
  {
   "cell_type": "markdown",
   "metadata": {},
   "source": [
    "<font size=\"+1\" color=\"red\">Create a graph with the largest connected component and save its image as disease-disease-largest-cc.png and replace this cell with `![Largest connected component of diseases graph](disease-disease-largest-cc.png)` to display your graph. **Include a color legend for disease type.**</font>"
   ]
  },
  {
   "cell_type": "markdown",
   "metadata": {},
   "source": [
    "<font size=\"+1\" color=\"red\">Save an image of the entire graph as disease-disease.png and replace this cell with \\!\\[Diseases graph\\]\\(disease-disease.png\\) to display your graph. **Include a color legend for disease type.**</font>"
   ]
  },
  {
   "cell_type": "markdown",
   "metadata": {},
   "source": [
    "<font size=\"+1\" color=\"red\">Replace this cell by a brief commentary, in your own words, of what you see in this graph. What interesting observations can you make about this graph?</font>"
   ]
  },
  {
   "cell_type": "markdown",
   "metadata": {},
   "source": [
    "# DELIVER (individually)\n",
    "\n",
    "Deliver a zip file containing:\n",
    "\n",
    "* This notebook\n",
    "* The ``diseasome.csv`` and ``diseasome.png`` files\n",
    "* The ``disease-disease.csv`` and ``disease-disease.png`` files"
   ]
  },
  {
   "cell_type": "markdown",
   "metadata": {},
   "source": [
    "<font size=\"+2\" color=\"#003300\">I hereby declare that, except for the code provided by the course instructors, all of my code, report, and figures were produced by myself.</font>\n"
   ]
  }
 ],
 "metadata": {
  "kernelspec": {
   "display_name": "Python 3",
   "language": "python",
   "name": "python3"
  },
  "language_info": {
   "codemirror_mode": {
    "name": "ipython",
    "version": 3
   },
   "file_extension": ".py",
   "mimetype": "text/x-python",
   "name": "python",
   "nbconvert_exporter": "python",
   "pygments_lexer": "ipython3",
   "version": "3.8.10"
  }
 },
 "nbformat": 4,
 "nbformat_minor": 2
}
