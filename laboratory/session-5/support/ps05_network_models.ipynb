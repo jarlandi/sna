{
 "cells": [
  {
   "cell_type": "markdown",
   "metadata": {},
   "source": [
    "# Practice Session 05: Network models\n"
   ]
  },
  {
   "cell_type": "markdown",
   "metadata": {},
   "source": [
    "In this session we will learn to use [NetworkX](https://networkx.github.io/), a Python package, and we will write code to create random graphs and preferential attachment graphs.\n",
    "\n",
    "**Note:** The graph generators we ask you to delive for this practice are already implemented in the NetworkX library and in other places online. *Do not copy those implementations:* they reproduce the same kinds of graph but follow a design that is different from what we describe here.\n",
    "\n",
    "<font size=\"-1\" color=\"gray\">(Remove this cell when delivering.)</font>"
   ]
  },
  {
   "cell_type": "markdown",
   "metadata": {},
   "source": [
    "Author: <font color=\"blue\">Your name here</font>\n",
    "\n",
    "E-mail: <font color=\"blue\">Your e-mail here</font>\n",
    "\n",
    "Date: <font color=\"blue\">The current date here</font>"
   ]
  },
  {
   "cell_type": "markdown",
   "metadata": {},
   "source": [
    "# 1. Random (ER) graph generator"
   ]
  },
  {
   "cell_type": "markdown",
   "metadata": {},
   "source": [
    "Write function `generate_random_graph(N, p)`, that:\n",
    "\n",
    "1. Creates an empty graph\n",
    "1. Adds N nodes to this graph, numbered from *0* to *N-1*\n",
    "1. For each pair *(u,v)* of nodes:\n",
    "   1. With probability *p*, adds an edge between *u* and *v*\n",
    "1. Returns the graph\n",
    "\n",
    "Small graphs can be easily created programmatically in Python with NetworkX.\n",
    "\n",
    "* To create a graph, you use either `networkx.Graph` or `networkx.DiGraph`, which return an undirected and directed graph respectively.\n",
    "* To add a node to a graph *g*, you use `g.add_node(u)`, where *u* is the name of the node.\n",
    "* To add an edge to a graph *g*, you use `g.add_edge(u, v)`, where *u* is the name of the source of the edge, and *v* the name of the destination of the edge.\n",
    "\n",
    "Example:\n",
    "\n",
    "```python\n",
    "g = nx.Graph()\n",
    "g.add_node(0)\n",
    "g.add_node(1)\n",
    "g.add_edge(0, 1)\n",
    "```\n",
    "\n",
    "<font size=\"-1\" color=\"gray\">(Remove this cell when delivering.)</font>"
   ]
  },
  {
   "cell_type": "code",
   "execution_count": null,
   "metadata": {},
   "outputs": [],
   "source": [
    "import networkx as nx\n",
    "import matplotlib.pyplot as plt\n",
    "import numpy as np\n",
    "from collections import OrderedDict"
   ]
  },
  {
   "cell_type": "markdown",
   "metadata": {},
   "source": [
    "The following function, which you can leave as-is, returns `True` with probability *p*, and `False` with probability *1-p*:\n",
    "\n",
    "<font size=\"-1\" color=\"gray\">(Remove this cell when delivering.)</font>"
   ]
  },
  {
   "cell_type": "code",
   "execution_count": null,
   "metadata": {},
   "outputs": [],
   "source": [
    "# Leave as-is\n",
    "\n",
    "def flip_coin(p):\n",
    "    if np.random.random() < p:\n",
    "        return True\n",
    "    else:\n",
    "        return False"
   ]
  },
  {
   "cell_type": "markdown",
   "metadata": {},
   "source": [
    "Now, create an ER graph generator. Your function should be called with `g = generate_random_graph(N, p)`. \n",
    "<font size=\"-1\" color=\"gray\">(Remove this cell when delivering.)</font>"
   ]
  },
  {
   "cell_type": "markdown",
   "metadata": {},
   "source": [
    "<font size=\"+1\" color=\"red\">Replace this cell with your code for *generate_random_graph(N,p)*, include comments to explain what you are doing at each step.</font>"
   ]
  },
  {
   "cell_type": "markdown",
   "metadata": {},
   "source": [
    "Create a function `is_connected(g)` that given a graph, answers True if the graph is connected, False otherwise. Do not use the built-in `is_connected` function of NetworkX, but feel free to use the function `nx.has_path(g, source, target)`. The number of nodes of the graph *g* is `g.number_of_nodes()`.\n",
    "\n",
    "<font size=\"-1\" color=\"gray\">(Remove this cell when delivering.)</font>"
   ]
  },
  {
   "cell_type": "markdown",
   "metadata": {},
   "source": [
    "<font size=\"+1\" color=\"red\">Replace this cell with your code for *is_connected(g)*, include comments to explain what you are doing at each step.</font>"
   ]
  },
  {
   "cell_type": "markdown",
   "metadata": {},
   "source": [
    "To draw a graph, you can use:\n",
    "\n",
    "```python\n",
    "nx.draw_networkx(g)\n",
    "```\n",
    "\n",
    "You can have more control over the visualization of the graph, such as setting the figure size, removing the axis, using a particular layout algorithm, or changing the node size or color:\n",
    "\n",
    "```python\n",
    "plt.figure(figsize=(12,6))\n",
    "plt.axis('off')\n",
    "pos=nx.spring_layout(g)\n",
    "nx.draw_networkx(g, pos, with_labels=True, node_size=500, node_color='yellow')\n",
    "```\n",
    "\n",
    "Tip: In the graph drawings of ER and BA graphs on this report you can use options `with_labels=False, node_size=10` (you can play with different values for `node_size`)\n",
    "\n",
    "<font size=\"-1\" color=\"gray\">(Remove this cell when delivering.)</font>"
   ]
  },
  {
   "cell_type": "markdown",
   "metadata": {},
   "source": [
    "<font size=\"+1\" color=\"red\">Replace this cell with your code to generate and visualize 3 ER graphs of about 200 nodes each. **Make sure all the graphs you generate are connected, check them with your is_connected(g) function**</font>"
   ]
  },
  {
   "cell_type": "markdown",
   "metadata": {},
   "source": [
    "Create another function `print_er_statistics(g,p)` that given an ER graph and a probability *p* prints:\n",
    "\n",
    "* its observed average degree *&lt;k&gt;* \n",
    "* its expected average degree given *N* and *p*, using the formula seen in class\n",
    "* its observed number of links *L*\n",
    "* its expected number of links given *N* and *p*, using the formula seen in class\n",
    "\n",
    "You can get a list of *(node, degree)* pairs by invoking `g.degree()`, or ask for the degree of node *u* using `g.degree(u)`. \n",
    "\n",
    "<font size=\"-1\" color=\"gray\">(Remove this cell when delivering.)</font>"
   ]
  },
  {
   "cell_type": "markdown",
   "metadata": {},
   "source": [
    "<font size=\"+1\" color=\"red\">Replace this cell with your code for print_er_statistics</font>"
   ]
  },
  {
   "cell_type": "markdown",
   "metadata": {},
   "source": [
    "You can use the following function (as-is, or modified) to plot the degree distribution in a graph.\n",
    "\n",
    "<font size=\"-1\" color=\"gray\">(Remove this cell when delivering.)</font>"
   ]
  },
  {
   "cell_type": "code",
   "execution_count": null,
   "metadata": {},
   "outputs": [],
   "source": [
    "# Leave as-is or modify if you want\n",
    "\n",
    "def plot_degree_distribution(g):\n",
    "    degree_dict = dict(g.degree())\n",
    "    degree_ordered = OrderedDict(sorted(degree_dict.items(), key=lambda x: x[1], reverse=True))\n",
    "    degree_sequence = list(degree_ordered.values())\n",
    "    prob, bin_edges = np.histogram(degree_sequence, bins=range(1,np.max(degree_sequence)+2), density=True)\n",
    "    plt.figure(figsize=(8,4))\n",
    "    plt.loglog(bin_edges[:-1], prob, 'x-')\n",
    "    plt.title(\"Probability density function\")\n",
    "    plt.xlabel(\"degree\")\n",
    "    plt.ylabel(\"probability\")\n",
    "    plt.show()"
   ]
  },
  {
   "cell_type": "markdown",
   "metadata": {},
   "source": [
    "<font size=\"+1\" color=\"red\">Replace this cell with five graphs with *N* between 500 and 1000, and different probabilities *p*. Start with a small probability *p* that yields a sparse graph, and increase it gradually. Not all graphs need to be connected. For each graph, include its drawing, a drawing of its degree distribution using plot_degree_distribution, its average degree, and its expected average degree.</font>"
   ]
  },
  {
   "cell_type": "markdown",
   "metadata": {},
   "source": [
    "<font size=\"+1\" color=\"red\">Replace this cell with a brief commentary on what you see in these graphs.</font>"
   ]
  },
  {
   "cell_type": "markdown",
   "metadata": {},
   "source": [
    "# 2. Preferential attachment (BA) generator"
   ]
  },
  {
   "cell_type": "markdown",
   "metadata": {},
   "source": [
    "Write code for creating a BA graph.\n",
    "\n",
    "Start by creating an auxiliary function, `select_targets(g, m)` that selects *m* target nodes in a graph *g*, with probabilities proportional to the degrees of the nodes. \n",
    "\n",
    "You can use the function `numpy.random.choice`, which is used to sample without replacement *m* elements from an array of nodes, following the function skeleton below:\n",
    "\n",
    "```python\n",
    "def select_targets(g, m):\n",
    "\n",
    "    # Check if feasible\n",
    "    N = g.number_of_nodes()  \n",
    "    if N < m:\n",
    "        raise ValueError('Graph has less than m nodes')\n",
    "\n",
    "    # Compute sum of degree\n",
    "    sum_degree = 0\n",
    "\n",
    "    # YOUR CODE HERE: COMPUTE SUM OF DEGREE OF NODES\n",
    "    if sum_degree == 0:\n",
    "        raise ValueError('Graph as no edges')\n",
    "\n",
    "    # Compute probabilities\n",
    "    probabilities = []\n",
    "    for (node, degree) in g.degree():\n",
    "        # YOUR CODE HERE: COMPUTE PROBABILITY OF SELECTING NODE u\n",
    "        # THEN APPEND IT TO probabilities USING probabilities.append(...)\n",
    "\n",
    "    # Sample without replacement\n",
    "    selected = np.random.choice(g.nodes(), size=m, replace=False, p=probabilities)\n",
    "\n",
    "    return selected\n",
    "```\n",
    "\n",
    "<font size=\"-1\" color=\"gray\">(Remove this cell when delivering.)</font>"
   ]
  },
  {
   "cell_type": "markdown",
   "metadata": {},
   "source": [
    "<font size=\"+1\" color=\"red\">Replace this cell with your implementation of select_targets.</font>\n"
   ]
  },
  {
   "cell_type": "markdown",
   "metadata": {},
   "source": [
    "Now, create a function `generate_preferential_attachment_graph(N, m0, m)` that:\n",
    "\n",
    "1. Checks that *m <= m0* or raises a ValueError\n",
    "1. Creates an empty graph\n",
    "1. Adds nodes numbered from *0* to *m<sub>0</sub> - 1* to the graph\n",
    "1. Creates a cycle by linking node *0* to node *1*, node *1* to node *2*, ..., node *m<sub>0</sub>-1* to node *0*\n",
    "1. For every node *u* numbered from *m<sub>0</sub>* to *N - 1*\n",
    "   1. Select *m* targets for this node using `select_targets`\n",
    "   1. Add node *u* (remember to select targets **before** adding the node *u*)\n",
    "   1. Link each node *u* to each of the *m* targets\n",
    "1. Returns the graph\n",
    "\n",
    "<font size=\"-1\" color=\"gray\">(Remove this cell when delivering.)</font>"
   ]
  },
  {
   "cell_type": "markdown",
   "metadata": {},
   "source": [
    "<font size=\"+1\" color=\"red\">Replace this cell with your implementation of generate_preferential_attachment_graph(N, m0, m), include comments to explain what you are doing at each step.</font>\n",
    "\n",
    "<font size=\"-1\" color=\"gray\">To test your code, you can do small experiments with, e.g., *N=100, m<sub>0</sub>=5, m=5* or *N=500, m<sub>0</sub>=2, m=1*, but do not include these small experimens with your deliverable.</font>\n"
   ]
  },
  {
   "cell_type": "markdown",
   "metadata": {},
   "source": [
    "<font size=\"+1\" color=\"red\">Replace this cell with two preferential attachment (BA) graphs with a few thousand nodes (in the range 1000-3000), and small values of *m0* and *m* (in the range 1-10). For each graph, include their drawing and their degree distribution, in log-log scale, plus a brief commentary of about a paragraph per graph.</font>"
   ]
  },
  {
   "cell_type": "markdown",
   "metadata": {},
   "source": [
    "# DELIVER (individually)\n",
    "\n",
    "Remember to read the section on \"delivering your code\" in the [course evaluation guidelines](https://github.com/chatox/networks-science-course/blob/master/upf/upf-evaluation.md).\n",
    "\n",
    "Deliver a zip file containing:\n",
    "\n",
    "* This notebook\n",
    "\n",
    "## Extra points available\n",
    "\n",
    "For more learning and extra points, in the case of the BA graphs add a line that approximates the power-law exponent that you observe in each of the two BA graphs. You can use Hill's estimator as described in the [Power law](https://en.wikipedia.org/wiki/Power_law#Maximum_likelihood) page of Wikipedia.\n",
    "\n",
    "**Note:** if you go for the extra points, add ``<font size=\"+2\" color=\"blue\">Additional results: fitting of power-law</font>`` at the top of your notebook.\n",
    "\n",
    "<font size=\"-1\" color=\"gray\">(Remove this cell when delivering.)</font>"
   ]
  },
  {
   "cell_type": "markdown",
   "metadata": {},
   "source": [
    "<font size=\"+2\" color=\"#003300\">I hereby declare that, except for the code provided by the course instructors, all of my code, report, and figures were produced by myself.</font>"
   ]
  }
 ],
 "metadata": {
  "kernelspec": {
   "display_name": "Python 3",
   "language": "python",
   "name": "python3"
  },
  "language_info": {
   "codemirror_mode": {
    "name": "ipython",
    "version": 3
   },
   "file_extension": ".py",
   "mimetype": "text/x-python",
   "name": "python",
   "nbconvert_exporter": "python",
   "pygments_lexer": "ipython3",
   "version": "3.8.10"
  }
 },
 "nbformat": 4,
 "nbformat_minor": 2
}
