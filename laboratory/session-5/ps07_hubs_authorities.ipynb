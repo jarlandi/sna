{
 "cells": [
  {
   "cell_type": "markdown",
   "metadata": {},
   "source": [
    "# Practice Session 07: Hubs and authorities\n"
   ]
  },
  {
   "cell_type": "markdown",
   "metadata": {},
   "source": [
    "In this session we will compute Hubs and Authorities using [NetworkX](https://networkx.github.io/), a Python package. This analysis is inspired by a paper on international trade ([Deguchi et al. 2014](https://journals.plos.org/plosone/article?id=10.1371/journal.pone.0100338)).\n",
    "\n",
    "The dataset we will use comes from OECD's [trade in value by partner country](https://stats.oecd.org/Index.aspx?DataSetCode=PARTNER) dataset, and these are your input files:\n",
    "\n",
    "* ``trade_1980-flows.csv`` international trade in 1980\n",
    "* ``trade_2013-flows.csv`` international trade in 2013\n",
    "* ``trade_2013-countries.csv`` list of countries and territories\n",
    "\n",
    "Plese note that the [HITS](https://en.wikipedia.org/wiki/HITS_algorithm) or hubs and authorities algorithm is implemented in NetworkX and elsewhere, but the other implementations follow a different design. Do this assignment on your own, following the design in this Notebook.\n",
    "\n",
    "<font size=\"-1\" color=\"gray\">(Remove this cell when delivering.)</font>"
   ]
  },
  {
   "cell_type": "markdown",
   "metadata": {},
   "source": [
    "# 1. Read mapping of codes to country names"
   ]
  },
  {
   "cell_type": "markdown",
   "metadata": {},
   "source": [
    "Read into variable ``id2name`` the file containing the list of countries and territories. \n",
    "\n",
    "This is a comma-separated file with two columns: *code*, which is a letter code (e.g. ``ZAF``),  and *name* (e.g., ``South Africa``).\n",
    "\n",
    "You can use the following code snippet to read a compressed file:\n",
    "\n",
    "```python\n",
    "# Open a compressed file for reading in text mode\n",
    "with gzip.open(FILENAME, \"rt\") as input_file:\n",
    "\n",
    "    # Create a CSV reader for a comma-delimited file with a header\n",
    "    reader = csv.DictReader(input_file, delimiter=',')\n",
    "    \n",
    "    # Iterate through records, each record is a dictionary\n",
    "    for record in reader:\n",
    "        print(record)\n",
    "```\n",
    "\n",
    "<font size=\"-1\" color=\"gray\">(Remove this cell when delivering.)</font>"
   ]
  },
  {
   "cell_type": "code",
   "execution_count": null,
   "metadata": {},
   "outputs": [],
   "source": [
    "import csv\n",
    "import gzip\n",
    "import io\n",
    "import networkx as nx\n",
    "import matplotlib.pyplot as plt\n",
    "import math\n",
    "import pandas as pd"
   ]
  },
  {
   "cell_type": "code",
   "execution_count": null,
   "metadata": {},
   "outputs": [],
   "source": [
    "INPUT_NAMES_FILENAME = \"trade-countries.csv.gz\"\n",
    "INPUT_TRADE_1980 = \"trade_1980-flows.csv.gz\"\n",
    "INPUT_TRADE_2013 = \"trade_2013-flows.csv.gz\"\n",
    "\n",
    "# Organisation for Economic Co-operation and Development\n",
    "OECD = set([\"AUS\", \"AUT\", \"BEL\", \"CAN\", \"CHL\", \"COL\", \"CZE\", \"DNK\", \"EST\", \"FIN\", \"FRA\",\n",
    "        \"DEU\", \"GRC\", \"HUN\", \"ISL\", \"IRL\", \"ISR\", \"ITA\", \"JPN\", \"KOR\", \"LVA\", \"LTU\",\n",
    "        \"LUX\", \"MEX\", \"NLD\", \"NOR\", \"NZL\", \"POL\", \"CHE\", \"ESP\", \"GBR\", \"PRT\", \"SVK\",\n",
    "        \"SVN\", \"SWE\", \"TUR\", \"USA\"])\n",
    "\n",
    "# Brazil, Russia, India, China, and South Africa\n",
    "BRICS = set([\"BRA\", \"RUS\", \"IND\", \"CHN\", \"ZAF\"])\n",
    "\n",
    "# COUNTRIES\n",
    "COUNTRIES = OECD.union(BRICS)"
   ]
  },
  {
   "cell_type": "code",
   "execution_count": null,
   "metadata": {},
   "outputs": [],
   "source": [
    "id2name = {}"
   ]
  },
  {
   "cell_type": "markdown",
   "metadata": {},
   "source": [
    "<font size=\"+1\" color=\"red\">Replace this cell with your code to read country names into id2name.</font>"
   ]
  },
  {
   "cell_type": "markdown",
   "metadata": {},
   "source": [
    "The following should print ``South Africa``.\n",
    "\n",
    "<font size=\"-1\" color=\"gray\">(Remove this cell when delivering.)</font>"
   ]
  },
  {
   "cell_type": "code",
   "execution_count": null,
   "metadata": {},
   "outputs": [],
   "source": [
    "# LEAVE AS-IS\n",
    "\n",
    "print(id2name[\"ZAF\"])"
   ]
  },
  {
   "cell_type": "markdown",
   "metadata": {},
   "source": [
    "# 2. Read flows data into two graphs"
   ]
  },
  {
   "cell_type": "markdown",
   "metadata": {},
   "source": [
    "Read the graphs as directed graphs into variables `g1980` (1980 data) and `g2013` (2013 data).\n",
    "\n",
    "You can create an empty graph using:\n",
    "\n",
    "```python\n",
    "g = nx.DiGraph()\n",
    "```\n",
    "\n",
    "In some rows the `amount` is empty. Hence, you will have to consider those as zeroes. You can do, for instance: `amount = float(record[\"amount\"]) if len(record[\"amount\"]) > 0 else 0.0`. Divide the amounts by one million and round to the nearest integer, so the weights will be expressed in millions of dollars.\n",
    "\n",
    "Add only the edges that describe a trade amount that is non-zero (i.e., more than half a million dollars), and that involve OECD or BRICS countries; we do not care if the country is OECD or BRICS, but the country must belong to one of those groups to be included in the graph. If the input contains self-loops, ignore them.\n",
    "\n",
    "If the flow is \"Import\", add an edge from *country2* to *country1*. If the flow is \"Export\", add an edge from *country1* to *country2*.\n",
    "\n",
    "To add a weighted edge in *g* from node *u* to node *v* with weight *w*, use `g.add_edge(u, v, weight=w)`.\n",
    "\n",
    "<font size=\"-1\" color=\"gray\">(Remove this cell when delivering.)</font>"
   ]
  },
  {
   "cell_type": "markdown",
   "metadata": {},
   "source": [
    "<font size=\"+1\" color=\"red\">Replace this cell with your code to read the two graphs. Read the 1980 trade graph into variable g1980, read the 2013 graph into variable g2013.</font>"
   ]
  },
  {
   "cell_type": "markdown",
   "metadata": {},
   "source": [
    "The following should print:\n",
    "\n",
    "```\n",
    "In 1980, BRA (Brazil) exported to FRA (France) goods and services for 99 USD millions\n",
    "by 2013, it exported 372 USD millions\n",
    "\n",
    "In 1980, BRA (Brazil) exported to PRT (Portugal) goods and services for 13 USD millions\n",
    "by 2013, it exported 92 USD millions\n",
    "\n",
    "In 1980, ZAF (South Africa) exported to FRA (France) goods and services for 100 USD millions\n",
    "by 2013, it exported 89 USD millions\n",
    "\n",
    "In 1980, ZAF (South Africa) exported to PRT (Portugal) goods and services for 5 USD millions\n",
    "by 2013, it exported 12 USD millions\n",
    "```\n",
    "\n",
    "<font size=\"-1\" color=\"gray\">(Remove this cell when delivering.)</font>"
   ]
  },
  {
   "cell_type": "code",
   "execution_count": null,
   "metadata": {},
   "outputs": [],
   "source": [
    "# LEAVE AS-IS\n",
    "\n",
    "for exporter in [\"BRA\", \"ZAF\"]:\n",
    "    for importer in [\"FRA\", \"PRT\"]:\n",
    "        print(\"In 1980, {:s} ({:s}) exported to {:s} ({:s}) goods and services for {:,d} USD millions\".format(\n",
    "            exporter, id2name[exporter], importer, id2name[importer],\n",
    "               g1980.get_edge_data(exporter, importer)[\"weight\"]) )\n",
    "\n",
    "        print(\"by 2013, it exported {:,d} USD millions\".format(g2013.get_edge_data(exporter, importer)[\"weight\"]))\n",
    "        print(\"\")\n",
    "    "
   ]
  },
  {
   "cell_type": "markdown",
   "metadata": {},
   "source": [
    "Next, compute the total exports of each country, into two dictionaries: `exports1980` and `exports2013`, with keys being country codes, and values being total exports. Do the same with total imports, into variables `imports1980` and `imports2013`.\n",
    "\n",
    "To iterate through the nodes of a graph, you can use:\n",
    "\n",
    "```python\n",
    "for n in g.nodes():\n",
    "    # n is the name of the node\n",
    "```\n",
    "\n",
    "To iterate through the edges of a graph, you can use:\n",
    "\n",
    "```python\n",
    "for u, v, d in g.edges(data=True):\n",
    "    w = d['weight']\n",
    "    # u is the source, v the destination, w the weight\n",
    "```\n",
    "\n",
    "To create a dictionary `d` initialized so that all keys are the elements of set `s` and all values are zero:\n",
    "\n",
    "```python\n",
    "d = dict([(element,0) for element in s])\n",
    "```\n",
    "\n",
    "To avoid code duplication, create a function `sum_weights(graph, direction, weight_key)` to avoid duplication. This function should receive a *graph*, a *direction* (\"in\" or \"out\"), and a *weight_key*, defaulting to \"weight\".\n",
    "\n",
    "    \n",
    "<font size=\"-1\" color=\"gray\">(Remove this cell when delivering.)</font>"
   ]
  },
  {
   "cell_type": "markdown",
   "metadata": {},
   "source": [
    "<font size=\"+1\" color=\"red\">Replace this cell with your code to compute total exports into dictionaries exports1980, exports2013, imports1980, imports2013. Create a function *sum_weights* to avoid code duplication.</font>"
   ]
  },
  {
   "cell_type": "markdown",
   "metadata": {},
   "source": [
    "The following should print:\n",
    "\n",
    "```\n",
    "France exported 6,923 USD Million in 1980 and 39,326 USD Million in 2013 (5.7 times),\n",
    " and imported 7,951 USD Million in 1980 and 48,557 USD Million in 2013 (6.1 times).\n",
    "\n",
    "China (People's Republic of) exported 715 USD Million in 1980 and 100,868 USD Million in 2013 (141.1 times),\n",
    " and imported 1,100 USD Million in 1980 and 49,216 USD Million in 2013 (44.7 times).\n",
    "```\n",
    "\n",
    "<font size=\"-1\" color=\"gray\">(Remove this cell when delivering.)</font>"
   ]
  },
  {
   "cell_type": "code",
   "execution_count": null,
   "metadata": {},
   "outputs": [],
   "source": [
    "# LEAVE AS-IS\n",
    "\n",
    "for country in ['FRA', 'CHN']:\n",
    "    print(\"{:s} exported {:,d} USD Million in 1980 and {:,d} USD Million in 2013 ({:.1f} times),\".format(\n",
    "        id2name[country], exports1980[country], exports2013[country], exports2013[country]/exports1980[country]\n",
    "    ))\n",
    "    print(\" and imported {:,d} USD Million in 1980 and {:,d} USD Million in 2013 ({:.1f} times).\".format(\n",
    "        imports1980[country], imports2013[country], imports2013[country]/imports1980[country]\n",
    "    ))\n",
    "    print()"
   ]
  },
  {
   "cell_type": "markdown",
   "metadata": {},
   "source": [
    "The code below, which you should use as-is, converts the imports and exports into a [Pandas dataframe](https://pandas.pydata.org/pandas-docs/stable/reference/api/pandas.DataFrame.html).\n",
    "\n",
    "<font size=\"-1\" color=\"gray\">(Remove this cell when delivering.)</font>"
   ]
  },
  {
   "cell_type": "code",
   "execution_count": null,
   "metadata": {},
   "outputs": [],
   "source": [
    "# LEAVE AS-IS\n",
    "\n",
    "sorted_countries = sorted(COUNTRIES)\n",
    "\n",
    "flowsData = {\n",
    "    'exp1980': [(exports1980[c] if c in exports1980 else 0) for c in sorted_countries],\n",
    "    'imp1980': [(imports1980[c] if c in imports1980 else 0) for c in sorted_countries],\n",
    "    'exp2013': [(exports2013[c] if c in exports2013 else 0) for c in sorted_countries], \n",
    "    'imp2013': [(imports2013[c] if c in imports2013 else 0) for c in sorted_countries],\n",
    "}\n",
    "\n",
    "flowsDF = pd.DataFrame(flowsData, index=sorted_countries)\n",
    "flowsDF"
   ]
  },
  {
   "cell_type": "markdown",
   "metadata": {},
   "source": [
    "# 3. Draw the exports graphs"
   ]
  },
  {
   "cell_type": "markdown",
   "metadata": {},
   "source": [
    "Draw the two graphs using NetworkX. Define an auxiliary function named `plotGraph(graph, exports)` for this, and use it to plot both graphs.\n",
    "\n",
    "You can adapt the following code snippet. If `g` is a NetworkX graph in which weights are expressed in the variable *weight*, the following layouts a graph using a spring model. The constants *NODE_SIZE_MULTIPLIER* and *EDGE_WIDTH_MULTIPLIER* should be numbers smaller than one used to reduce the node sizes and edge widths to a manegeable size (set by trial and error).\n",
    "\n",
    "```python\n",
    "    plt.figure(figsize=(20,12))\n",
    "    \n",
    "    # Compute node sizes as a function of total exports\n",
    "    node_sizes = []\n",
    "    for node in g.nodes():\n",
    "        node_sizes.append(exports[node] * NODE_SIZE_MULTIPLIER)\n",
    "\n",
    "    # Compute edge widths as a function of exports\n",
    "    edge_widths = []\n",
    "    for u, v, d in g.edges(data=True):\n",
    "        weight = math.log(d['weight'])*EDGE_WIDTH_MULTIPLIER\n",
    "        edge_widths.append(weight)\n",
    "        \n",
    "    # Determine node positions\n",
    "    pos = nx.spring_layout(g, iterations=100, weight=\"weight\")\n",
    "    \n",
    "    # Draw nodes\n",
    "    nx.draw_networkx_nodes(g, pos, node_color=\"yellow\", node_size=node_sizes)\n",
    "\n",
    "    # Draw edges\n",
    "    nx.draw_networkx_edges(g, pos, width=edge_widths, )\n",
    "\n",
    "    # Draw labels and display graph\n",
    "    _ = nx.draw_networkx_labels(g, pos)\n",
    "```\n",
    "\n",
    "<font size=\"-1\" color=\"gray\">(Remove this cell when delivering.)</font>"
   ]
  },
  {
   "cell_type": "markdown",
   "metadata": {},
   "source": [
    "<font size=\"+1\" color=\"red\">Replace this cell with your code to plot the two graphs.</font>"
   ]
  },
  {
   "cell_type": "markdown",
   "metadata": {},
   "source": [
    "<font size=\"+1\" color=\"red\">Replace this cell with a brief commentary on what are the similarities and differences you observe between these two graphs.</font>"
   ]
  },
  {
   "cell_type": "markdown",
   "metadata": {},
   "source": [
    "# 4. Compute hubs and authorities"
   ]
  },
  {
   "cell_type": "markdown",
   "metadata": {},
   "source": [
    "Implement the iterative algorithm seen in class for hubs and authorities. Instead of vectors, we will use two dictionaries having country names as keys. Dictionary `h` should contain the hub scores, while dictionary `a` should contain the authority scores.\n",
    "\n",
    "Start from normalized hub scores: the hub score should be *1/N* for each country, where *N* is the number of countries.\n",
    "\n",
    "Then, perform 100 iterations of the following:\n",
    "\n",
    "1. Compute authority scores from hub scores (weighted sum of hub scores of incoming links times edge weights)\n",
    "1. Normalize the authority scores.\n",
    "1. Compute hub scores from authority scores (weighted sum of auhority scores of outgoing links times edge weights)\n",
    "1. Normalize the hub scores.\n",
    "\n",
    "Create two functions: `normalize(d)` that sums the values of a dictionary and then divides each one by the sum, returning the resulting dictionary, and `hubs_authorities(g, weight_key=\"weight\")` that computes hubs and authorities using by default the edge key \"weight\" as a weight.\n",
    "\n",
    "Notes:\n",
    "1. You do *not* need to normalize edge weights.\n",
    "1. It is OK if for countries that have no data (e.g., Estonia in 1980) some scores are NaN.\n",
    "\n",
    "<font size=\"-1\" color=\"gray\">(Remove this cell when delivering.)</font>"
   ]
  },
  {
   "cell_type": "markdown",
   "metadata": {},
   "source": [
    "<font size=\"+1\" color=\"red\">Replace this cell with your code for function *normalize*</font>"
   ]
  },
  {
   "cell_type": "markdown",
   "metadata": {},
   "source": [
    "The following should print:\n",
    "    \n",
    "```python\n",
    "{'a': 0.3, 'b': 0.6, 'c': 0.1}\n",
    "```\n",
    "\n",
    "<font size=\"-1\" color=\"gray\">(Remove this cell when delivering.)</font>"
   ]
  },
  {
   "cell_type": "code",
   "execution_count": null,
   "metadata": {},
   "outputs": [],
   "source": [
    "# LEAVE AS-IS\n",
    "\n",
    "print(normalize({\"a\": 60, \"b\": 120, \"c\":20}))"
   ]
  },
  {
   "cell_type": "markdown",
   "metadata": {},
   "source": [
    "<font size=\"+1\" color=\"red\">Replace this cell with your code for function *hubs_authorities(graph, weight_key=\"weight\")*. Remember to include comments to explain what your code does at every relevant step.</font>"
   ]
  },
  {
   "cell_type": "code",
   "execution_count": null,
   "metadata": {},
   "outputs": [],
   "source": [
    "# LEAVE AS-IS\n",
    "# Execution should be very fast (a few seconds maximum)\n",
    "\n",
    "print(\"Computing for 1980\")\n",
    "(h1980,a1980) = hubs_authorities(g1980)\n",
    "\n",
    "print(\"Computing for 2013\")\n",
    "(h2013,a2013) = hubs_authorities(g2013)"
   ]
  },
  {
   "cell_type": "code",
   "execution_count": null,
   "metadata": {},
   "outputs": [],
   "source": [
    "# LEAVE AS-IS\n",
    "\n",
    "flowsDF['h1980'] = pd.Series(h1980)\n",
    "flowsDF['a1980'] = pd.Series(a1980)\n",
    "flowsDF['h2013'] = pd.Series(h2013)\n",
    "flowsDF['a2013'] = pd.Series(a2013)\n",
    "\n",
    "flowsDF"
   ]
  },
  {
   "cell_type": "markdown",
   "metadata": {},
   "source": [
    "Print the top 5 countries by exports and by hub score in 2013.\n",
    "\n",
    "You can use a command like this: `display(dataframe.sort_values(by=colname, ascending=False).head(numrows))`\n",
    "\n",
    "<font size=\"-1\" color=\"gray\">(Remove this cell when delivering.)</font>"
   ]
  },
  {
   "cell_type": "markdown",
   "metadata": {},
   "source": [
    "<font size=\"+1\" color=\"red\">Replace this cell with commands to print top countries by exports and by hub score.</font>"
   ]
  },
  {
   "cell_type": "markdown",
   "metadata": {},
   "source": [
    "<font size=\"+1\" color=\"red\">Replace this cell with a brief commentary in which you compare the two lists above. Explain clearly what does it mean to be a country with high hub score versus being a country with high total exports.</font>"
   ]
  },
  {
   "cell_type": "markdown",
   "metadata": {},
   "source": [
    "Print the top 5 countries by imports and by authority score in 2013.\n",
    "\n",
    "<font size=\"-1\" color=\"gray\">(Remove this cell when delivering.)</font>"
   ]
  },
  {
   "cell_type": "markdown",
   "metadata": {},
   "source": [
    "<font size=\"+1\" color=\"red\">Replace this cell with commands to print top countries by imports and by authority score.</font>"
   ]
  },
  {
   "cell_type": "markdown",
   "metadata": {},
   "source": [
    "<font size=\"+1\" color=\"red\">Replace this cell with a brief commentary in which you compare the two lists above. Explain clearly what does it mean to be a country with high authority score versus being a country with high total imports.</font>"
   ]
  },
  {
   "cell_type": "markdown",
   "metadata": {},
   "source": [
    "# 5. Comparison of hub/export, authority/import scores"
   ]
  },
  {
   "cell_type": "markdown",
   "metadata": {},
   "source": [
    "Now, we will compare the hub score of a country against its exports, and the authority scores of a country against its imports.\n",
    "\n",
    "We can do this visually by plotting both in log-log scale. You can use the following code snippet, which assumes we are plotting dictionary *a* against dictionary *b*:\n",
    "\n",
    "```python\n",
    "# Create log-log plot\n",
    "plt.figure(figsize=(20,10))\n",
    "plt.loglog()\n",
    "plt.xlabel(\"x axis label\", {'size': '22'})\n",
    "plt.ylabel(\"y axis label\", {'size': '22'})\n",
    "\n",
    "# Add a diagonal line\n",
    "plt.plot([min(a.values()),max(a.values())], [min(b.values()),max(b.values())], '-.', lw=2)\n",
    "\n",
    "# Do the scatter plot with texts\n",
    "for country in set(a.keys()).intersection(set(b.keys())):\n",
    "    plt.text(a[country], b[country], country, {'size': '12'})\n",
    "```\n",
    "\n",
    "Remember to add labels to the x axis and y axis before delivering your plots, and to use a function (name it `plot_scatter`) to draw your plots: do not duplicate code.\n",
    "\n",
    "<font size=\"-1\" color=\"gray\">(Remove this cell when delivering.)</font>"
   ]
  },
  {
   "cell_type": "markdown",
   "metadata": {},
   "source": [
    "<font size=\"+1\" color=\"red\">Replace this cell with your function *plot_scatter*.</font>"
   ]
  },
  {
   "cell_type": "code",
   "execution_count": null,
   "metadata": {},
   "outputs": [],
   "source": [
    "# LEAVE AS-IS: print plots for 2013\n",
    "\n",
    "plot_scatter( exports2013, h2013, \"Exports [Millions of USD]\", \"Hub score\" )\n",
    "plot_scatter( imports2013, a2013, \"Imports [Millions of USD]\", \"Authority score\" )"
   ]
  },
  {
   "cell_type": "markdown",
   "metadata": {},
   "source": [
    "<font size=\"+1\" color=\"red\">Replace this cell with a brief commentary about the plots above with respect to (a) Hub scores versus exports, and (b) Authority scores versus imports.</font>"
   ]
  },
  {
   "cell_type": "code",
   "execution_count": null,
   "metadata": {},
   "outputs": [],
   "source": [
    "# LEAVE AS-IS: print plots for 1980\n",
    "\n",
    "plot_scatter( exports1980, h1980, \"Exports [Millions of USD]\", \"Hub score\" )\n",
    "plot_scatter( imports1980, a1980, \"Imports [Millions of USD]\", \"Authority score\" )"
   ]
  },
  {
   "cell_type": "markdown",
   "metadata": {},
   "source": [
    "<font size=\"+1\" color=\"red\">Replace this cell with a brief commentary comparing what you observe for 1980 with what you observed for 2013 with respect to (a) Hub scores versus exports, and (b) Authority scores versus imports.</font>"
   ]
  },
  {
   "cell_type": "markdown",
   "metadata": {},
   "source": [
    "# DELIVER (individually)\n",
    "\n",
    "A .zip file containing:\n",
    "\n",
    "* This notebook.\n",
    "\n",
    "\n",
    "## Extra points available\n",
    "\n",
    "For extra points and extra learning (+2, so your maximum grade can be a 12 in this assignment), export this network to .csv, export the hub scores to a separate .csv file, and import both in Cytoscape. Then, do a clustering analysis in Cytoscape, paint the clusters with colors, resize nodes according to hub scores, and insert the image on this Notebook, with a brief commentary.\n",
    "\n",
    "**Note:** if you go for the extra points, add ``<font size=\"+2\" color=\"blue\">Additional results: country clusters</font>`` at the top of your notebook.\n",
    "\n",
    "<font size=\"-1\" color=\"gray\">(Remove this cell when delivering.)</font>"
   ]
  },
  {
   "cell_type": "markdown",
   "metadata": {},
   "source": [
    "<font size=\"+2\" color=\"#003300\">I hereby declare that, except for the code provided by the course instructors, all of my code, report, and figures were produced by myself.</font>"
   ]
  }
 ],
 "metadata": {
  "kernelspec": {
   "display_name": "Python 3",
   "language": "python",
   "name": "python3"
  },
  "language_info": {
   "codemirror_mode": {
    "name": "ipython",
    "version": 3
   },
   "file_extension": ".py",
   "mimetype": "text/x-python",
   "name": "python",
   "nbconvert_exporter": "python",
   "pygments_lexer": "ipython3",
   "version": "3.8.10"
  }
 },
 "nbformat": 4,
 "nbformat_minor": 2
}
