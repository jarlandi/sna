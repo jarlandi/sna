{
 "cells": [
  {
   "cell_type": "markdown",
   "metadata": {},
   "source": [
    "# Notebook-2"
   ]
  },
  {
   "cell_type": "markdown",
   "metadata": {},
   "source": [
    "# 1. Distance with Breadth First Search"
   ]
  },
  {
   "cell_type": "code",
   "execution_count": 1,
   "metadata": {},
   "outputs": [],
   "source": [
    "import networkx as nx"
   ]
  },
  {
   "cell_type": "markdown",
   "metadata": {},
   "source": [
    "## Create an undirected graph from a list of edges"
   ]
  },
  {
   "cell_type": "code",
   "execution_count": 2,
   "metadata": {
    "scrolled": false
   },
   "outputs": [
    {
     "name": "stdout",
     "output_type": "stream",
     "text": [
      "Neighbors of A: ['B', 'C']\n"
     ]
    },
    {
     "data": {
      "image/png": "[encoded data removed]",
      "text/plain": [
       "<Figure size 432x288 with 1 Axes>"
      ]
     },
     "metadata": {},
     "output_type": "display_data"
    }
   ],
   "source": [
    "#creating the graph\n",
    "G=nx.Graph()\n",
    "G.add_edges_from([('A','B'),('A','C'),('C','D'),('C','E'),('D','F'),\n",
    "('D','H'),('D','G'),('E','H'),('E','I')])\n",
    "\n",
    "# Crea un component inconnex\n",
    "# G.add_edges_from([('A','B'),('A','C'),('C','D'),('C','E'),('D','F'),\n",
    "# ('D','H'),('D','G'),('E','H'),('E','I'),('Y','Z')])\n",
    "\n",
    "#printing the neighbors of the node 'A'\n",
    "print(\"Neighbors of A:\", list(G.neighbors('A')))\n",
    "\n",
    "nx.draw(G, node_color='red', with_labels=True)"
   ]
  },
  {
   "cell_type": "markdown",
   "metadata": {},
   "source": [
    "## Compute BFS distance from A to all nodes using nx.neighbors() method"
   ]
  },
  {
   "cell_type": "code",
   "execution_count": 3,
   "metadata": {
    "scrolled": false
   },
   "outputs": [
    {
     "name": "stdout",
     "output_type": "stream",
     "text": [
      "A 0\n",
      "B 1\n",
      "C 1\n",
      "D 2\n",
      "E 2\n",
      "F 3\n",
      "H 3\n",
      "G 3\n",
      "I 3\n"
     ]
    }
   ],
   "source": [
    "# PUT YOUR CODE HERE\n",
    "# Compute and print nodes and distances from A\n",
    "\n",
    "# Create and inicialise a queue\n",
    "\n",
    "# Iterate to add neighbor nodes with incremental distance from A to the queue\n",
    "\n",
    "# Loop to print nodes and distances\n"
   ]
  },
  {
   "cell_type": "markdown",
   "metadata": {},
   "source": [
    "## Compute BFS distance from A to all nodes using nx.descendants_at_distance() function"
   ]
  },
  {
   "cell_type": "code",
   "execution_count": 4,
   "metadata": {},
   "outputs": [
    {
     "name": "stdout",
     "output_type": "stream",
     "text": [
      "At distance 0: {'A'}\n",
      "At distance 1: {'C', 'B'}\n",
      "At distance 2: {'E', 'D'}\n",
      "At distance 3: {'H', 'I', 'G', 'F'}\n"
     ]
    }
   ],
   "source": [
    "# PUT YOUR CODE HERE\n",
    "# Get and print nodes and distances from A\n",
    "\n",
    "# Get nodes at a distance from A and loop to print \n"
   ]
  },
  {
   "cell_type": "markdown",
   "metadata": {},
   "source": [
    "## Print diameter of the network and average path length"
   ]
  },
  {
   "cell_type": "code",
   "execution_count": 5,
   "metadata": {},
   "outputs": [
    {
     "name": "stdout",
     "output_type": "stream",
     "text": [
      "Diameter of G: 4\n",
      "Average path length of G: 2.3333333333333335\n"
     ]
    }
   ],
   "source": [
    "# PUT YOUR CODE HERE (you will only need to call a function)\n",
    "\n",
    "# Print diameter of the network\n",
    "\n",
    "# Print average (shortest-)path length\n"
   ]
  },
  {
   "cell_type": "markdown",
   "metadata": {},
   "source": [
    "# 2. Clustering coefficient"
   ]
  },
  {
   "cell_type": "markdown",
   "metadata": {},
   "source": [
    "## Create an adjacency matrix as a two-dimensional array"
   ]
  },
  {
   "cell_type": "code",
   "execution_count": 6,
   "metadata": {},
   "outputs": [],
   "source": [
    "adjacency_matrix=[\n",
    "                  [0,1,0,1],\n",
    "                  [1,0,1,1],\n",
    "                  [0,1,0,0],\n",
    "                  [1,1,0,0]\n",
    "                  ]"
   ]
  },
  {
   "cell_type": "markdown",
   "metadata": {},
   "source": [
    "## Compute clustering coefficient from an adjacency matrix\n",
    "Compute and print the clustering coefficient of the node 1 (row 1) from the adjacency matrix above"
   ]
  },
  {
   "cell_type": "code",
   "execution_count": 7,
   "metadata": {},
   "outputs": [
    {
     "name": "stdout",
     "output_type": "stream",
     "text": [
      "List of neighbors of node 1: [0, 2, 3]\n",
      "Clustering coefficient of node 1: 0.3333333333333333\n"
     ]
    }
   ],
   "source": [
    "# PUT YOUR CODE HERE\n",
    "\n",
    "# Compute the degree of node 1 (optional)\n",
    "\n",
    "degree_node_1 = 3\n",
    "\n",
    "# Computing L_i: create a list of neighbors of node 1\n",
    "\n",
    "# Computing L_i: check for all the possible neighbour couples if a link actually exist\n",
    "\n",
    "# Take care, maybe you have indeed counted them twice...\n",
    "\n",
    "# Compute and print the clustering coefficient of node 1\n"
   ]
  },
  {
   "cell_type": "markdown",
   "metadata": {},
   "source": [
    "## Compute clustering coefficient from a nx.Graph\n",
    "\n",
    "1. Convert the adjacency matrix to a nx.Graph\n",
    "2. Print the clustering coefficient and average clustering coefficient"
   ]
  },
  {
   "cell_type": "markdown",
   "metadata": {},
   "source": [
    "### Convert an adjacency matrix to a nx.Graph and plot"
   ]
  },
  {
   "cell_type": "code",
   "execution_count": 8,
   "metadata": {},
   "outputs": [
    {
     "name": "stdout",
     "output_type": "stream",
     "text": [
      "[[0, 1, 0, 1], [1, 0, 1, 1], [0, 1, 0, 0], [1, 1, 0, 0]] \n",
      "\n",
      "(4, 4)\n",
      "[[0 1 0 1]\n",
      " [1 0 1 1]\n",
      " [0 1 0 0]\n",
      " [1 1 0 0]] \n",
      "\n",
      "Numer of nodes = 4\n",
      "List of nodes = [0, 1, 2, 3]\n",
      "List of edges = [(0, 1), (0, 3), (1, 2), (1, 3)]\n",
      "  (0, 1)\t1\n",
      "  (0, 3)\t1\n",
      "  (1, 0)\t1\n",
      "  (1, 2)\t1\n",
      "  (1, 3)\t1\n",
      "  (2, 1)\t1\n",
      "  (3, 0)\t1\n",
      "  (3, 1)\t1\n",
      "\n",
      "A TRIANGLE!\n"
     ]
    },
    {
     "data": {
      "image/png": "[encoded data removed]",
      "text/plain": [
       "<Figure size 432x288 with 1 Axes>"
      ]
     },
     "metadata": {},
     "output_type": "display_data"
    }
   ],
   "source": [
    "import numpy as np\n",
    "\n",
    "# The adjacency matrix and numpy arrays have high spatial cost in large networks\n",
    "\n",
    "print(adjacency_matrix, \"\\n\")\n",
    "\n",
    "# Numpy array as intermediate type\n",
    "A = np.array(adjacency_matrix)\n",
    "print(A.shape)\n",
    "print(A, \"\\n\")\n",
    "\n",
    "# The list of edges in a nx.Graph significantly reduces the spatial cost in sparse networks\n",
    "\n",
    "G = nx.from_numpy_matrix(A)\n",
    "print(\"Number of nodes = {}\".format(len(G)))\n",
    "print(\"List of nodes = {}\".format(G.nodes))\n",
    "print(\"List of edges = {}\".format(G.edges))\n",
    "print(nx.adjacency_matrix(G))\n",
    "\n",
    "nx.draw(G, node_color='green', node_size=700, with_labels=True, font_color=\"white\", font_size=12)\n",
    "\n",
    "print(\"\\nA TRIANGLE!\")"
   ]
  },
  {
   "cell_type": "markdown",
   "metadata": {},
   "source": [
    "### Print the cluster coefficient and average clustering coefficient\n",
    "\n",
    "Print the clustering coefficient of the node 1 and the average clustering of the graph using the networkx library"
   ]
  },
  {
   "cell_type": "code",
   "execution_count": 9,
   "metadata": {
    "scrolled": true
   },
   "outputs": [
    {
     "name": "stdout",
     "output_type": "stream",
     "text": [
      "Clustering coefficient of node 2: 0.3333333333333333\n",
      "Average clustering coefficient of G: 0.5833333333333333\n"
     ]
    }
   ],
   "source": [
    "# PUT YOUR CODE HERE (you will only need to call a function)\n"
   ]
  },
  {
   "cell_type": "markdown",
   "metadata": {},
   "source": [
    "## Check connectedness between a pair of nodes\n",
    "\n",
    " Number of node-independent paths between two nodes."
   ]
  },
  {
   "cell_type": "code",
   "execution_count": 10,
   "metadata": {},
   "outputs": [
    {
     "name": "stdout",
     "output_type": "stream",
     "text": [
      "Number of indep. paths 1<-->2:  1\n",
      "Number of indep. paths 0<-->3:  2\n",
      "Number of indep. paths 1<-->3:  2\n"
     ]
    }
   ],
   "source": [
    "from networkx.algorithms import approximation\n",
    "\n",
    "print (\"Number of indep. paths 1<-->2: \", nx.algorithms.approximation.local_node_connectivity(G, 1, 2))\n",
    "print (\"Number of indep. paths 0<-->3: \",nx.algorithms.approximation.local_node_connectivity(G, 0, 3))\n",
    "print (\"Number of indep. paths 1<-->3: \",nx.algorithms.approximation.local_node_connectivity(G, 0, 3))"
   ]
  }
 ],
 "metadata": {
  "kernelspec": {
   "display_name": "Python 3",
   "language": "python",
   "name": "python3"
  },
  "language_info": {
   "codemirror_mode": {
    "name": "ipython",
    "version": 3
   },
   "file_extension": ".py",
   "mimetype": "text/x-python",
   "name": "python",
   "nbconvert_exporter": "python",
   "pygments_lexer": "ipython3",
   "version": "3.8.10"
  }
 },
 "nbformat": 4,
 "nbformat_minor": 1
}
