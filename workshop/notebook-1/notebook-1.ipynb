{
 "cells": [
  {
   "cell_type": "markdown",
   "metadata": {},
   "source": [
    "# Starting with Networkx"
   ]
  },
  {
   "cell_type": "markdown",
   "metadata": {},
   "source": [
    "### Networkx API documentation\n",
    "\n",
    "https://networkx.org/documentation/stable/reference/index.html\n",
    "\n",
    "### Networkx tutorial\n",
    "\n",
    "https://networkx.org/documentation/stable/tutorial.html"
   ]
  },
  {
   "cell_type": "markdown",
   "metadata": {
    "slideshow": {
     "slide_type": "-"
    }
   },
   "source": [
    "# Importing required modules"
   ]
  },
  {
   "cell_type": "code",
   "execution_count": null,
   "metadata": {
    "scrolled": true,
    "slideshow": {
     "slide_type": "-"
    }
   },
   "outputs": [],
   "source": [
    "import numpy as np\n",
    "import networkx as nx\n",
    "import matplotlib.pyplot as plt\n",
    "import matplotlib as mpl\n",
    "%matplotlib inline"
   ]
  },
  {
   "cell_type": "markdown",
   "metadata": {
    "slideshow": {
     "slide_type": "subslide"
    }
   },
   "source": [
    "You can see what's in a module using `dir` (I will not actually run it because it prints out a lot)"
   ]
  },
  {
   "cell_type": "code",
   "execution_count": null,
   "metadata": {
    "scrolled": true,
    "slideshow": {
     "slide_type": "-"
    }
   },
   "outputs": [],
   "source": [
    "dir(nx)"
   ]
  },
  {
   "cell_type": "code",
   "execution_count": null,
   "metadata": {
    "scrolled": true
   },
   "outputs": [],
   "source": [
    "nx.__version__"
   ]
  },
  {
   "cell_type": "markdown",
   "metadata": {
    "slideshow": {
     "slide_type": "slide"
    }
   },
   "source": [
    "# Basic data types in NetworkX\n",
    "\n",
    "NetworkX provides the following classes that represent network-related data,\n",
    "as well as network analysis algorithms that operate on these objects:"
   ]
  },
  {
   "cell_type": "markdown",
   "metadata": {
    "slideshow": {
     "slide_type": "fragment"
    }
   },
   "source": [
    "**Graph**       - Undirected graph with self loops"
   ]
  },
  {
   "cell_type": "markdown",
   "metadata": {
    "slideshow": {
     "slide_type": "fragment"
    }
   },
   "source": [
    "**DiGraph**      - Directed graph with self loops"
   ]
  },
  {
   "cell_type": "markdown",
   "metadata": {
    "slideshow": {
     "slide_type": "fragment"
    }
   },
   "source": [
    "**MultiGraph**   - Undirected Graph with self loops and multiple edges"
   ]
  },
  {
   "cell_type": "markdown",
   "metadata": {
    "slideshow": {
     "slide_type": "fragment"
    }
   },
   "source": [
    "**MultiDiGraph** - Directed Graph with self loops and multiple edges"
   ]
  },
  {
   "cell_type": "markdown",
   "metadata": {
    "slideshow": {
     "slide_type": "slide"
    }
   },
   "source": [
    "# Getting started\n",
    "Create an empty, undirected network"
   ]
  },
  {
   "cell_type": "code",
   "execution_count": null,
   "metadata": {
    "scrolled": true
   },
   "outputs": [],
   "source": [
    "#generate an undirected empty graph\n",
    "G = nx.Graph()\n",
    "\n",
    "#generate a directed empty graph\n",
    "DG = nx.DiGraph()"
   ]
  },
  {
   "cell_type": "markdown",
   "metadata": {
    "slideshow": {
     "slide_type": "slide"
    }
   },
   "source": [
    "# Nodes\n",
    "\n",
    "Nodes can be almost anything, including numbers, strings, GPS coordinates, you name it. The only constraint is that it has to be [hashable](https://docs.python.org/3/glossary.html). In practice, the most common thing in Python that is _not_ hashable is a list, so we will typically use tuples in their place."
   ]
  },
  {
   "cell_type": "markdown",
   "metadata": {
    "slideshow": {
     "slide_type": "fragment"
    }
   },
   "source": [
    "Nodes can be added one at a time:"
   ]
  },
  {
   "cell_type": "code",
   "execution_count": null,
   "metadata": {
    "scrolled": true
   },
   "outputs": [],
   "source": [
    "G.add_node(0)\n",
    "G.add_node(\"John\")\n",
    "\n",
    "# tuple object representing, say, longitude and latitude\n",
    "pos = (1.2, 3.4) \n",
    "G.add_node(pos)\n",
    "\n",
    "print(G.nodes)"
   ]
  },
  {
   "cell_type": "markdown",
   "metadata": {
    "slideshow": {
     "slide_type": "fragment"
    }
   },
   "source": [
    "...or many at once from a Python container"
   ]
  },
  {
   "cell_type": "code",
   "execution_count": null,
   "metadata": {
    "scrolled": true
   },
   "outputs": [],
   "source": [
    "# [1,2,3] is a list containing 1, 2, and 3\n",
    "G.add_nodes_from([1, 2, 3])\n",
    "\n",
    "print(G.nodes)"
   ]
  },
  {
   "cell_type": "markdown",
   "metadata": {
    "slideshow": {
     "slide_type": "slide"
    }
   },
   "source": [
    "# Node attributes\n",
    "Nodes can have arbitrary attributes associated with them, contained in a string-index dictionary"
   ]
  },
  {
   "cell_type": "markdown",
   "metadata": {
    "slideshow": {
     "slide_type": "fragment"
    }
   },
   "source": [
    "Adding attributes at the time of node creation using keyword arguments:"
   ]
  },
  {
   "cell_type": "code",
   "execution_count": null,
   "metadata": {
    "scrolled": true
   },
   "outputs": [],
   "source": [
    "G.add_node(\"Louis\", eye_color='blue', height=6)\n",
    "\n",
    "print(G.nodes)"
   ]
  },
  {
   "cell_type": "markdown",
   "metadata": {
    "slideshow": {
     "slide_type": "fragment"
    }
   },
   "source": [
    "You can also add attributes to an already existing node"
   ]
  },
  {
   "cell_type": "code",
   "execution_count": null,
   "metadata": {
    "scrolled": true
   },
   "outputs": [],
   "source": [
    "G.add_node(\"Laszlo\")\n",
    "\n",
    "# add an attribute \"citations\" with value 10**6 to Laszlo\n",
    "G.nodes[\"Laszlo\"][\"citations\"] = 10**6\n",
    "\n",
    "print(G.nodes)"
   ]
  },
  {
   "cell_type": "markdown",
   "metadata": {},
   "source": [
    "Print node labels and attributes"
   ]
  },
  {
   "cell_type": "code",
   "execution_count": null,
   "metadata": {
    "scrolled": true
   },
   "outputs": [],
   "source": [
    "print(G.nodes(data=True))"
   ]
  },
  {
   "cell_type": "markdown",
   "metadata": {
    "slideshow": {
     "slide_type": "fragment"
    }
   },
   "source": [
    "`G.nodes[n]` gives a dictionary containing all the attribute:value pairs associated with node `n`"
   ]
  },
  {
   "cell_type": "code",
   "execution_count": null,
   "metadata": {
    "scrolled": true
   },
   "outputs": [],
   "source": [
    "print(\"Louis's eyes are \", G.nodes[\"Louis\"][\"eye_color\"], \" and he is \", G.nodes['Louis']['height'], \" feet tall.\")\n",
    "print(\"Laszlo has \", G.nodes[\"Laszlo\"][\"citations\"], \" citations.\")"
   ]
  },
  {
   "cell_type": "code",
   "execution_count": null,
   "metadata": {
    "scrolled": true
   },
   "outputs": [],
   "source": [
    "# this is an error: node 0 has no attribute 'eye_color'. Try to exectute.\n",
    "# G.nodes[0]['eye_color']"
   ]
  },
  {
   "cell_type": "markdown",
   "metadata": {
    "slideshow": {
     "slide_type": "slide"
    }
   },
   "source": [
    "# Edges\n",
    "\n",
    "An edge between `node1` and `node2` is represented by a tuple `(node1, node2)`  \n",
    "They can be added one at a time:"
   ]
  },
  {
   "cell_type": "code",
   "execution_count": null,
   "metadata": {
    "scrolled": true
   },
   "outputs": [],
   "source": [
    "# add edge between node 0 and node 1\n",
    "G.add_edge(0, 1)"
   ]
  },
  {
   "cell_type": "markdown",
   "metadata": {},
   "source": [
    "Or many at once from a container"
   ]
  },
  {
   "cell_type": "code",
   "execution_count": null,
   "metadata": {
    "scrolled": true
   },
   "outputs": [],
   "source": [
    "edge_list = [ (2, 1), (\"Louis\", \"Laszlo\"), (3, \"Laszlo\")]\n",
    "G.add_edges_from(edge_list)\n",
    "\n",
    "print(G.edges)"
   ]
  },
  {
   "cell_type": "markdown",
   "metadata": {
    "slideshow": {
     "slide_type": "fragment"
    }
   },
   "source": [
    "Nodes will be automatically created if they don't already exist."
   ]
  },
  {
   "cell_type": "code",
   "execution_count": null,
   "metadata": {
    "scrolled": true
   },
   "outputs": [],
   "source": [
    "edge_list = [(\"Biel\", \"Arnau\"), ((1.2, 3.4), 1)]\n",
    "G.add_edges_from(edge_list)\n",
    "\n",
    "print(G.nodes)"
   ]
  },
  {
   "cell_type": "markdown",
   "metadata": {
    "slideshow": {
     "slide_type": "slide"
    }
   },
   "source": [
    "# Edge attributes\n",
    "Like nodes, edges can also have arbitrary attributes. An important and special one (for many algorithms) is \"weight\"  \n",
    "\n",
    "The syntax for adding/accessing edge attributes is the similar to that for nodes:"
   ]
  },
  {
   "cell_type": "code",
   "execution_count": null,
   "metadata": {
    "scrolled": true,
    "slideshow": {
     "slide_type": "fragment"
    }
   },
   "outputs": [],
   "source": [
    "G.add_edge(\"Laszlo\", \"Louis\", weight=0.05)\n",
    "\n",
    "G.add_edge(\"Montreal\", \"Boston\")\n",
    "G.edges[\"Montreal\", \"Boston\"]['distance'] = 254.82"
   ]
  },
  {
   "cell_type": "markdown",
   "metadata": {
    "slideshow": {
     "slide_type": "fragment"
    }
   },
   "source": [
    "`G.edges[node1, node2]` is a dictionary containing all attribute:value pairs associated with the edge from node1 to node2"
   ]
  },
  {
   "cell_type": "code",
   "execution_count": null,
   "metadata": {
    "scrolled": true
   },
   "outputs": [],
   "source": [
    "print(G.edges[\"Montreal\", \"Boston\"])"
   ]
  },
  {
   "cell_type": "markdown",
   "metadata": {
    "slideshow": {
     "slide_type": "slide"
    }
   },
   "source": [
    "# Basic operations"
   ]
  },
  {
   "cell_type": "markdown",
   "metadata": {
    "slideshow": {
     "slide_type": "subslide"
    }
   },
   "source": [
    "### Size of the network"
   ]
  },
  {
   "cell_type": "code",
   "execution_count": null,
   "metadata": {
    "scrolled": true,
    "slideshow": {
     "slide_type": "-"
    }
   },
   "outputs": [],
   "source": [
    "# number of nodes\n",
    "print(G.number_of_nodes())\n",
    "\n",
    "# more pythonic way\n",
    "print(len(G))\n",
    "\n",
    "# number of edges\n",
    "print(G.number_of_edges())\n",
    "\n",
    "# better\n",
    "print(G.size())\n",
    "\n",
    "# how to do string formatting\n",
    "print(\"G has {0} nodes and {1} edges.\".format(len(G), G.size()))"
   ]
  },
  {
   "cell_type": "markdown",
   "metadata": {
    "slideshow": {
     "slide_type": "subslide"
    }
   },
   "source": [
    "### Testing to see whether nodes or edges exist"
   ]
  },
  {
   "cell_type": "code",
   "execution_count": null,
   "metadata": {
    "scrolled": true,
    "slideshow": {
     "slide_type": "-"
    }
   },
   "outputs": [],
   "source": [
    "G.has_node(\"Louis\")"
   ]
  },
  {
   "cell_type": "markdown",
   "metadata": {
    "slideshow": {
     "slide_type": "fragment"
    }
   },
   "source": [
    "More Pythonic way"
   ]
  },
  {
   "cell_type": "code",
   "execution_count": null,
   "metadata": {
    "scrolled": true
   },
   "outputs": [],
   "source": [
    "\"Laszlo\" in G"
   ]
  },
  {
   "cell_type": "markdown",
   "metadata": {},
   "source": [
    "Also Pythonic, but more explicit:"
   ]
  },
  {
   "cell_type": "code",
   "execution_count": null,
   "metadata": {
    "scrolled": true
   },
   "outputs": [],
   "source": [
    "\"Louis\" in G.nodes"
   ]
  },
  {
   "cell_type": "markdown",
   "metadata": {
    "slideshow": {
     "slide_type": "fragment"
    }
   },
   "source": [
    "For edges, you must use has_edge (no syntax like `edge in G`).\n",
    "\n",
    "In undirected graphs (a,b)=(b,a)"
   ]
  },
  {
   "cell_type": "code",
   "execution_count": null,
   "metadata": {
    "scrolled": true,
    "slideshow": {
     "slide_type": "-"
    }
   },
   "outputs": [],
   "source": [
    "print(G.has_edge(2, 1))\n",
    "print(G.has_edge(\"Louis\", 0))"
   ]
  },
  {
   "cell_type": "markdown",
   "metadata": {
    "slideshow": {
     "slide_type": "subslide"
    }
   },
   "source": [
    "### Finding neighbors of a node"
   ]
  },
  {
   "cell_type": "code",
   "execution_count": null,
   "metadata": {
    "scrolled": true,
    "slideshow": {
     "slide_type": "-"
    }
   },
   "outputs": [],
   "source": [
    "list(G.neighbors(1))"
   ]
  },
  {
   "cell_type": "markdown",
   "metadata": {
    "slideshow": {
     "slide_type": "fragment"
    }
   },
   "source": [
    "* In `DiGraph` objects, `G.neighbors(node)` gives the successors of `node`, as does `G.successors(node)`  \n",
    "* Predecessors of `node` can be obtained with `G.predecessors(node)`"
   ]
  },
  {
   "cell_type": "markdown",
   "metadata": {
    "slideshow": {
     "slide_type": "subslide"
    }
   },
   "source": [
    "### Iterating over nodes and edges\n",
    "Nodes and edges can be iterated over with `G.nodes()` and `G.edges()` respectively  "
   ]
  },
  {
   "cell_type": "code",
   "execution_count": null,
   "metadata": {
    "scrolled": true,
    "slideshow": {
     "slide_type": "fragment"
    }
   },
   "outputs": [],
   "source": [
    "for node, data in G.nodes(data=True): # data=True includes node attributes as dictionaries\n",
    "    print(\"Node {0}\\t\\t: {1}\".format(node, data))"
   ]
  },
  {
   "cell_type": "code",
   "execution_count": null,
   "metadata": {
    "scrolled": true,
    "slideshow": {
     "slide_type": "fragment"
    }
   },
   "outputs": [],
   "source": [
    "for n1, n2, data in G.edges(data=True):\n",
    "    print(\"{0} <----> {1}: {2}\".format(n1, n2, data))"
   ]
  },
  {
   "cell_type": "code",
   "execution_count": null,
   "metadata": {
    "scrolled": true
   },
   "outputs": [],
   "source": [
    "for n1, n2 in G.edges():\n",
    "    print(n1, n2)"
   ]
  },
  {
   "cell_type": "markdown",
   "metadata": {
    "slideshow": {
     "slide_type": "subslide"
    }
   },
   "source": [
    "### Calculating degrees"
   ]
  },
  {
   "cell_type": "code",
   "execution_count": null,
   "metadata": {
    "scrolled": true
   },
   "outputs": [],
   "source": [
    "# one node\n",
    "print(G.degree(\"Louis\")) # returns an integer\n",
    "\n",
    "# all nodes (returns a view of a dictionary with node : degree pairs for all nodes)\n",
    "print(G.degree())\n",
    "degrees = G.degree()"
   ]
  },
  {
   "cell_type": "code",
   "execution_count": null,
   "metadata": {
    "scrolled": true
   },
   "outputs": [],
   "source": [
    "# just the degree sequence\n",
    "print([G.degree(node) for node in G])"
   ]
  },
  {
   "cell_type": "markdown",
   "metadata": {
    "slideshow": {
     "slide_type": "fragment"
    }
   },
   "source": [
    "As you know, in directed graphs (of class `DiGraph`) there are two types of degree. Things work just as you expect\n",
    "* `G.in_degree(node) `\n",
    "* `G.out_degree(node) # same as G.degree()`\n"
   ]
  },
  {
   "cell_type": "markdown",
   "metadata": {
    "slideshow": {
     "slide_type": "slide"
    }
   },
   "source": [
    "# Other operations"
   ]
  },
  {
   "cell_type": "markdown",
   "metadata": {
    "slideshow": {
     "slide_type": "fragment"
    }
   },
   "source": [
    "* ***`subgraph(G, nbunch)` or `G.subgraph(nbunch)`***       \n",
    "subgraph of G induced by nodes in nbunch    \n",
    "\n",
    "* ***`reverse(G)`***       \n",
    "DiGraph with edges reversed \n",
    "\n",
    "* ***`union(G1, G2)`***      \n",
    "graph union    \n",
    "\n",
    "* ***`disjoint_union(G1, G2)`***     \n",
    "same, but treats nodes of G1, G2 as different \n",
    "\n",
    "* ***`intersection(G1, G2)`***      \n",
    "graph with only the edges in common between G1, G2\n",
    "\n",
    "* ***`difference(G1, G2)`***      \n",
    "graph with only the edges G1 that aren't in G2\n",
    "\n",
    "* ***`copy(G)` or `G.copy()`***     \n",
    "copy of G\n",
    "\n",
    "* ***`complement(G)` or `G.complement()`***     \n",
    "the complement graph of G \n",
    "\n",
    "* ***`convert_to_undirected(G)` or `G.to_undirected()`***     \n",
    "undirected version of G (a Graph or MultiGraph)  \n",
    "\n",
    "* ***`convert_to_directed(G)` or `G.to_directed()`***      \n",
    "directed version of G (a DiGraph of MultiDiGraph)\n",
    "\n",
    "* ***`to_numpy_array(G)`***      \n",
    "adjacency matrix A of G (in dense matrix format; to get sparse matrix, use `nx.adjacency_matrix(G)`)"
   ]
  },
  {
   "cell_type": "code",
   "execution_count": null,
   "metadata": {
    "scrolled": true
   },
   "outputs": [],
   "source": [
    "nx.to_numpy_array(G, weight=None)"
   ]
  },
  {
   "cell_type": "markdown",
   "metadata": {
    "slideshow": {
     "slide_type": "slide"
    }
   },
   "source": [
    "# Basic analysis\n",
    "A large number of basic analyses can be done in one line using NetworkX + numpy or builtin python functions like `min`, `max`, etc."
   ]
  },
  {
   "cell_type": "code",
   "execution_count": null,
   "metadata": {
    "scrolled": true,
    "slideshow": {
     "slide_type": "-"
    }
   },
   "outputs": [],
   "source": [
    "N = len(G)\n",
    "L = G.size()\n",
    "degrees = [G.degree(node) for node in G]\n",
    "# alternate form, maybe less convenient\n",
    "# degrees = list(dict(G.degree()).values())\n",
    "kmin = min(degrees)\n",
    "kmax = max(degrees)"
   ]
  },
  {
   "cell_type": "code",
   "execution_count": null,
   "metadata": {
    "scrolled": true,
    "slideshow": {
     "slide_type": "fragment"
    }
   },
   "outputs": [],
   "source": [
    "print(\"Number of nodes: \", N)\n",
    "print(\"Number of edges: \", L)\n",
    "print()\n",
    "print(\"Average degree: \", 2*L/N)\n",
    "print(\"Average degree (alternate calculation)\", np.mean(degrees))\n",
    "print()\n",
    "print(\"Minimum degree: \", kmin)\n",
    "print(\"Maximum degree: \", kmax)"
   ]
  },
  {
   "cell_type": "markdown",
   "metadata": {
    "slideshow": {
     "slide_type": "slide"
    }
   },
   "source": [
    "# Drawing the network\n",
    "* NetworkX can draw networks using a large number of layout algorithms  \n",
    "* The results are not as pretty as Gephi, but NetworkX is better for a quick 'n dirty visualization and\n",
    "gives you finer-grained control over the layout."
   ]
  },
  {
   "cell_type": "code",
   "execution_count": null,
   "metadata": {
    "slideshow": {
     "slide_type": "subslide"
    }
   },
   "outputs": [],
   "source": [
    "# Plot the graph\n",
    "fig = plt.figure(figsize=(12,5))\n",
    "nx.draw_spring(G, node_size=700, node_color='orange', with_labels=True)"
   ]
  },
  {
   "cell_type": "markdown",
   "metadata": {
    "slideshow": {
     "slide_type": "slide"
    }
   },
   "source": [
    "# Graph I/O\n",
    "\n",
    "Usually you will not be building a network from scratch one node/link at a time. Instead, you will\n",
    "want to read it in from an appropriate data file. NetworkX can understand the following common graph\n",
    "formats:"
   ]
  },
  {
   "cell_type": "markdown",
   "metadata": {},
   "source": [
    "* edge lists\n",
    "* adjacency lists\n",
    "* GML\n",
    "* GEXF\n",
    "* Python 'pickle'\n",
    "* GraphML\n",
    "* Pajek\n",
    "* LEDA\n",
    "* YAML"
   ]
  },
  {
   "cell_type": "markdown",
   "metadata": {
    "slideshow": {
     "slide_type": "slide"
    }
   },
   "source": [
    "## Reading in an edge list from a file\n",
    "Put `test.txt` data file into your working directory for IPython  \n",
    "If you don't know the present working directory, you can get it by typing  \n",
    "\n",
    "`%pwd`\n",
    "\n",
    "in any cell"
   ]
  },
  {
   "cell_type": "code",
   "execution_count": null,
   "metadata": {},
   "outputs": [],
   "source": [
    "%pwd"
   ]
  },
  {
   "cell_type": "markdown",
   "metadata": {
    "slideshow": {
     "slide_type": "fragment"
    }
   },
   "source": [
    "Let's read in a file with the following options:\n",
    "* lines starting with `#` are treated as comments and ignored  \n",
    "* use a `Graph` object to hold the data (i.e., network is undirected)  \n",
    "* data are separated by whitespace (' ')\n",
    "* nodes should be treated as integers (`int`)\n",
    "* encoding of the text file containing the edge list is utf-8"
   ]
  },
  {
   "cell_type": "code",
   "execution_count": null,
   "metadata": {
    "scrolled": true,
    "slideshow": {
     "slide_type": "-"
    }
   },
   "outputs": [],
   "source": [
    "# read in an edge list from the file 'test.txt'\n",
    "G = nx.read_edgelist('./test.txt', \n",
    "                     comments='#',\n",
    "                     create_using=nx.Graph(), \n",
    "                     delimiter=' ', \n",
    "                     nodetype=int, \n",
    "                     encoding='utf-8')"
   ]
  },
  {
   "cell_type": "markdown",
   "metadata": {
    "slideshow": {
     "slide_type": "fragment"
    }
   },
   "source": [
    "### Allowed formats\n",
    "* Node pairs with no data  \n",
    "`1 2`\n",
    "* Node pairs with python dictionary  \n",
    "`1 2 {weight:7, color:\"green\"}`"
   ]
  },
  {
   "cell_type": "markdown",
   "metadata": {
    "slideshow": {
     "slide_type": "slide"
    }
   },
   "source": [
    "# Basic analysis\n",
    "A large number of basic analyses can be done in one line using NetworkX + numpy or builtin python functions like `min`, `max`, etc."
   ]
  },
  {
   "cell_type": "code",
   "execution_count": null,
   "metadata": {
    "scrolled": true,
    "slideshow": {
     "slide_type": "-"
    }
   },
   "outputs": [],
   "source": [
    "N = len(G)\n",
    "L = G.size()\n",
    "degrees = [G.degree(node) for node in G]\n",
    "# alternate form, maybe less convenient\n",
    "# degrees = list(dict(G.degree()).values())\n",
    "kmin = min(degrees)\n",
    "kmax = max(degrees)\n",
    "\n",
    "print(\"Number of nodes: \", N)\n",
    "print(\"Number of edges: \", L)\n",
    "print()\n",
    "print(\"Average degree: \", 2*L/N)\n",
    "print(\"Average degree (alternate calculation)\", np.mean(degrees))\n",
    "print()\n",
    "print(\"Minimum degree: \", kmin)\n",
    "print(\"Maximum degree: \", kmax)"
   ]
  },
  {
   "cell_type": "markdown",
   "metadata": {
    "slideshow": {
     "slide_type": "slide"
    }
   },
   "source": [
    "# Drawing the network\n",
    "* NetworkX can draw networks using a large number of layout algorithms  \n",
    "* The results are not as pretty as Gephi, but NetworkX is better for a quick 'n dirty visualization and\n",
    "gives you finer-grained control over the layout."
   ]
  },
  {
   "cell_type": "code",
   "execution_count": null,
   "metadata": {
    "slideshow": {
     "slide_type": "subslide"
    }
   },
   "outputs": [],
   "source": [
    "# using the force-based or \"spring\" layout algorithm\n",
    "fig = plt.figure(figsize=(8,8))\n",
    "nx.draw_spring(G, node_size=40)"
   ]
  },
  {
   "cell_type": "code",
   "execution_count": null,
   "metadata": {
    "scrolled": false,
    "slideshow": {
     "slide_type": "subslide"
    }
   },
   "outputs": [],
   "source": [
    "# using the fcircular layout algorithm\n",
    "fig = plt.figure(figsize=(8,8))\n",
    "nx.draw_circular(G, node_size=40)"
   ]
  },
  {
   "cell_type": "markdown",
   "metadata": {
    "slideshow": {
     "slide_type": "slide"
    }
   },
   "source": [
    "# Plotting the degree distribution"
   ]
  },
  {
   "cell_type": "markdown",
   "metadata": {
    "slideshow": {
     "slide_type": "fragment"
    }
   },
   "source": [
    "### Plot it in log scale\n",
    "\n",
    "`numpy` can be used to get logarithmically-spaced bins between the minimum and maximum degree"
   ]
  },
  {
   "cell_type": "code",
   "execution_count": null,
   "metadata": {
    "scrolled": true
   },
   "outputs": [],
   "source": [
    "# Get 10 logarithmically spaced bins between kmin and kmax\n",
    "bin_edges = np.logspace(np.log10(kmin), np.log10(kmax), num=10)\n",
    "\n",
    "# histogram the data into these bins\n",
    "density, _ = np.histogram(degrees, bins=bin_edges, density=True)\n",
    "\n",
    "# `_` indicates that `np.histogram()` is returning a tuple of two items, and we don't care about\n",
    "# what's in the second element. what is the other thing it's returning? check the docs:\n",
    "# https://numpy.org/doc/stable/reference/generated/numpy.histogram.html"
   ]
  },
  {
   "cell_type": "code",
   "execution_count": null,
   "metadata": {
    "scrolled": true
   },
   "outputs": [],
   "source": [
    "bin_edges"
   ]
  },
  {
   "cell_type": "code",
   "execution_count": null,
   "metadata": {
    "scrolled": true
   },
   "outputs": [],
   "source": [
    "density"
   ]
  },
  {
   "cell_type": "markdown",
   "metadata": {
    "slideshow": {
     "slide_type": "subslide"
    }
   },
   "source": [
    "Now plot it"
   ]
  },
  {
   "cell_type": "code",
   "execution_count": null,
   "metadata": {
    "scrolled": true,
    "slideshow": {
     "slide_type": "fragment"
    }
   },
   "outputs": [],
   "source": [
    "fig = plt.figure(figsize=(6,4))\n",
    "\n",
    "# \"x\" should be midpoint (IN LOG SPACE) of each bin\n",
    "log_be = np.log10(bin_edges)\n",
    "x = 10**((log_be[1:] + log_be[:-1])/2)\n",
    "\n",
    "plt.loglog(x, density, marker='o', linestyle='none')\n",
    "plt.xlabel(r\"degree $k$\", fontsize=16)\n",
    "plt.ylabel(r\"$P(k)$\", fontsize=16)\n",
    "\n",
    "# remove right and top boundaries because they're ugly\n",
    "ax = plt.gca()\n",
    "ax.spines['right'].set_visible(False)\n",
    "ax.spines['top'].set_visible(False)\n",
    "ax.yaxis.set_ticks_position('left')\n",
    "ax.xaxis.set_ticks_position('bottom')\n",
    "\n",
    "# Show the plot\n",
    "plt.show()"
   ]
  },
  {
   "cell_type": "markdown",
   "metadata": {
    "slideshow": {
     "slide_type": "fragment"
    }
   },
   "source": [
    "This is clearly not a network withe anything like a heavy-tailed or power law degree distribution.\n",
    "Let's also plot it in linear-linear scale."
   ]
  },
  {
   "cell_type": "markdown",
   "metadata": {
    "slideshow": {
     "slide_type": "subslide"
    }
   },
   "source": [
    "### Plot it in linear scale\n",
    "\n",
    "The `linspace` command in `numpy` is used to get linearly-spaced numbers between two extremes"
   ]
  },
  {
   "cell_type": "code",
   "execution_count": null,
   "metadata": {
    "scrolled": true,
    "slideshow": {
     "slide_type": "fragment"
    }
   },
   "outputs": [],
   "source": [
    "# Get 10 logarithmically spaced bins between kmin and kmax\n",
    "bin_edges = np.linspace(kmin, kmax, num=10)\n",
    "\n",
    "# histogram the data into these bins\n",
    "density, _ = np.histogram(degrees, bins=bin_edges, density=True)"
   ]
  },
  {
   "cell_type": "markdown",
   "metadata": {
    "slideshow": {
     "slide_type": "subslide"
    }
   },
   "source": [
    "Now plot it"
   ]
  },
  {
   "cell_type": "code",
   "execution_count": null,
   "metadata": {
    "scrolled": true,
    "slideshow": {
     "slide_type": "fragment"
    }
   },
   "outputs": [],
   "source": [
    "fig = plt.figure(figsize=(6,4))\n",
    "\n",
    "# \"x\" should be midpoint (IN LOG SPACE) of each bin\n",
    "log_be = np.log10(bin_edges)\n",
    "x = 10**((log_be[1:] + log_be[:-1])/2)\n",
    "\n",
    "plt.plot(x, density, marker='o', linestyle='none')\n",
    "plt.xlabel(r\"degree $k$\", fontsize=16)\n",
    "plt.ylabel(r\"$P(k)$\", fontsize=16)\n",
    "\n",
    "# remove right and top boundaries because they're ugly\n",
    "ax = plt.gca()\n",
    "ax.spines['right'].set_visible(False)\n",
    "ax.spines['top'].set_visible(False)\n",
    "ax.yaxis.set_ticks_position('left')\n",
    "ax.xaxis.set_ticks_position('bottom')\n",
    "\n",
    "# Show the plot\n",
    "plt.show()"
   ]
  },
  {
   "cell_type": "markdown",
   "metadata": {
    "slideshow": {
     "slide_type": "slide"
    }
   },
   "source": [
    "# Hands-on exercise\n",
    "Split into groups. Choose randomly one of the example networks `example_1.txt` or `example_2.txt`. Each group should read in their edge list file and do the following:\n",
    "1. Calculate the basic measurements shown above: number of nodes, number of edges, average degree, minimum and maximum degree. What can you suspect about the degree distribution of the network just based on the average and extremes in degree?\n",
    "2. Plot the degree distribution in log-log scale. Also plot it in linear scale. Comment on how this fits with the analysis of item 1.\n",
    "3. Draw the network using the two layout algorithms shown above (spring and circular). How does the the network's appearance echo the findings of items 1 and 2?"
   ]
  },
  {
   "cell_type": "markdown",
   "metadata": {
    "slideshow": {
     "slide_type": "slide"
    }
   },
   "source": [
    "## Solutions `example_1.txt`"
   ]
  },
  {
   "cell_type": "markdown",
   "metadata": {},
   "source": [
    "### 1. Read the file. Obtain and print the basic measurements shown above"
   ]
  },
  {
   "cell_type": "code",
   "execution_count": null,
   "metadata": {
    "scrolled": true,
    "slideshow": {
     "slide_type": "fragment"
    }
   },
   "outputs": [],
   "source": [
    "# Your code here"
   ]
  },
  {
   "cell_type": "markdown",
   "metadata": {
    "slideshow": {
     "slide_type": "fragment"
    }
   },
   "source": [
    "Your coments here"
   ]
  },
  {
   "cell_type": "markdown",
   "metadata": {},
   "source": [
    "### 2. Plot the degree distribution in log scale"
   ]
  },
  {
   "cell_type": "code",
   "execution_count": null,
   "metadata": {
    "scrolled": true,
    "slideshow": {
     "slide_type": "fragment"
    }
   },
   "outputs": [],
   "source": [
    "# Your code here"
   ]
  },
  {
   "cell_type": "markdown",
   "metadata": {
    "slideshow": {
     "slide_type": "fragment"
    }
   },
   "source": [
    "Your coments here"
   ]
  },
  {
   "cell_type": "markdown",
   "metadata": {},
   "source": [
    "### 3. Plot the graph"
   ]
  },
  {
   "cell_type": "code",
   "execution_count": null,
   "metadata": {
    "scrolled": true,
    "slideshow": {
     "slide_type": "fragment"
    }
   },
   "outputs": [],
   "source": [
    "# Your code here using the force-based or \"spring\" layout algorithm"
   ]
  },
  {
   "cell_type": "code",
   "execution_count": null,
   "metadata": {
    "scrolled": true,
    "slideshow": {
     "slide_type": "fragment"
    }
   },
   "outputs": [],
   "source": [
    "# Your code here using the circular layout algorithm"
   ]
  },
  {
   "cell_type": "markdown",
   "metadata": {
    "slideshow": {
     "slide_type": "fragment"
    }
   },
   "source": [
    "Your coments here"
   ]
  },
  {
   "cell_type": "markdown",
   "metadata": {
    "slideshow": {
     "slide_type": "slide"
    }
   },
   "source": [
    "## Solutions `example_2.txt`"
   ]
  },
  {
   "cell_type": "markdown",
   "metadata": {},
   "source": [
    "### 1. Read the file. Obtain and print the basic measurements shown above"
   ]
  },
  {
   "cell_type": "code",
   "execution_count": null,
   "metadata": {
    "scrolled": true,
    "slideshow": {
     "slide_type": "fragment"
    }
   },
   "outputs": [],
   "source": [
    "# Your code here"
   ]
  },
  {
   "cell_type": "markdown",
   "metadata": {
    "slideshow": {
     "slide_type": "fragment"
    }
   },
   "source": [
    "Your coments here"
   ]
  },
  {
   "cell_type": "markdown",
   "metadata": {},
   "source": [
    "### 2. Plot the degree distribution in log scale"
   ]
  },
  {
   "cell_type": "code",
   "execution_count": null,
   "metadata": {
    "scrolled": true,
    "slideshow": {
     "slide_type": "fragment"
    }
   },
   "outputs": [],
   "source": [
    "# Your code here"
   ]
  },
  {
   "cell_type": "markdown",
   "metadata": {
    "slideshow": {
     "slide_type": "fragment"
    }
   },
   "source": [
    "Your coments here"
   ]
  },
  {
   "cell_type": "markdown",
   "metadata": {},
   "source": [
    "### 3. Plot the graph"
   ]
  },
  {
   "cell_type": "code",
   "execution_count": null,
   "metadata": {
    "scrolled": true,
    "slideshow": {
     "slide_type": "fragment"
    }
   },
   "outputs": [],
   "source": [
    "# Your code here using the force-based or \"spring\" layout algorithm"
   ]
  },
  {
   "cell_type": "code",
   "execution_count": null,
   "metadata": {
    "scrolled": true,
    "slideshow": {
     "slide_type": "fragment"
    }
   },
   "outputs": [],
   "source": [
    "# Your code here using the circular layout algorithm"
   ]
  },
  {
   "cell_type": "markdown",
   "metadata": {
    "slideshow": {
     "slide_type": "fragment"
    }
   },
   "source": [
    "Your coments here"
   ]
  }
 ],
 "metadata": {
  "celltoolbar": "Slideshow",
  "kernelspec": {
   "display_name": "Python 3",
   "language": "python",
   "name": "python3"
  },
  "language_info": {
   "codemirror_mode": {
    "name": "ipython",
    "version": 3
   },
   "file_extension": ".py",
   "mimetype": "text/x-python",
   "name": "python",
   "nbconvert_exporter": "python",
   "pygments_lexer": "ipython3",
   "version": "3.8.10"
  }
 },
 "nbformat": 4,
 "nbformat_minor": 4
}
